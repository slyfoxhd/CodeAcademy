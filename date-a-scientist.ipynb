{
 "cells": [
  {
   "cell_type": "code",
   "execution_count": 239,
   "metadata": {},
   "outputs": [
    {
     "name": "stderr",
     "output_type": "stream",
     "text": [
      "[nltk_data] Downloading package punkt to\n",
      "[nltk_data]     C:\\Users\\Nutzer\\AppData\\Roaming\\nltk_data...\n",
      "[nltk_data]   Package punkt is already up-to-date!\n",
      "[nltk_data] Downloading package stopwords to\n",
      "[nltk_data]     C:\\Users\\Nutzer\\AppData\\Roaming\\nltk_data...\n",
      "[nltk_data]   Package stopwords is already up-to-date!\n",
      "[nltk_data] Downloading package wordnet to\n",
      "[nltk_data]     C:\\Users\\Nutzer\\AppData\\Roaming\\nltk_data...\n",
      "[nltk_data]   Package wordnet is already up-to-date!\n"
     ]
    }
   ],
   "source": [
    "import pandas as pd\n",
    "import numpy as np\n",
    "import re\n",
    "import string\n",
    "import matplotlib.pyplot as plt\n",
    "import seaborn as sns\n",
    "%matplotlib inline\n",
    "import nltk\n",
    "nltk.download('punkt')\n",
    "nltk.download('stopwords')\n",
    "nltk.download('wordnet')\n",
    "from nltk.tokenize import word_tokenize\n",
    "from nltk.corpus import stopwords \n",
    "from nltk.stem import PorterStemmer\n",
    "from nltk.stem import WordNetLemmatizer\n",
    "import gensim\n",
    "from collections import Counter\n",
    "from sklearn.model_selection import train_test_split\n",
    "from sklearn.metrics import accuracy_score, confusion_matrix, classification_report\n",
    "from sklearn import tree\n",
    "from sklearn.ensemble import RandomForestClassifier\n",
    "from sklearn.linear_model import LogisticRegression\n",
    "from sklearn.tree import DecisionTreeClassifier\n",
    "from sklearn.neighbors import KNeighborsClassifier\n",
    "from sklearn.cluster import KMeans "
   ]
  },
  {
   "cell_type": "code",
   "execution_count": 240,
   "metadata": {},
   "outputs": [],
   "source": [
    "pd.set_option('display.max_columns', None)"
   ]
  },
  {
   "cell_type": "markdown",
   "metadata": {},
   "source": [
    "<b>Obtain general overview of data</b>¶"
   ]
  },
  {
   "cell_type": "code",
   "execution_count": 241,
   "metadata": {},
   "outputs": [
    {
     "data": {
      "text/html": [
       "<div>\n",
       "<style scoped>\n",
       "    .dataframe tbody tr th:only-of-type {\n",
       "        vertical-align: middle;\n",
       "    }\n",
       "\n",
       "    .dataframe tbody tr th {\n",
       "        vertical-align: top;\n",
       "    }\n",
       "\n",
       "    .dataframe thead th {\n",
       "        text-align: right;\n",
       "    }\n",
       "</style>\n",
       "<table border=\"1\" class=\"dataframe\">\n",
       "  <thead>\n",
       "    <tr style=\"text-align: right;\">\n",
       "      <th></th>\n",
       "      <th>age</th>\n",
       "      <th>body_type</th>\n",
       "      <th>diet</th>\n",
       "      <th>drinks</th>\n",
       "      <th>drugs</th>\n",
       "      <th>education</th>\n",
       "      <th>essay0</th>\n",
       "      <th>essay1</th>\n",
       "      <th>essay2</th>\n",
       "      <th>essay3</th>\n",
       "      <th>essay4</th>\n",
       "      <th>essay5</th>\n",
       "      <th>essay6</th>\n",
       "      <th>essay7</th>\n",
       "      <th>essay8</th>\n",
       "      <th>essay9</th>\n",
       "      <th>ethnicity</th>\n",
       "      <th>height</th>\n",
       "      <th>income</th>\n",
       "      <th>job</th>\n",
       "      <th>last_online</th>\n",
       "      <th>location</th>\n",
       "      <th>offspring</th>\n",
       "      <th>orientation</th>\n",
       "      <th>pets</th>\n",
       "      <th>religion</th>\n",
       "      <th>sex</th>\n",
       "      <th>sign</th>\n",
       "      <th>smokes</th>\n",
       "      <th>speaks</th>\n",
       "      <th>status</th>\n",
       "    </tr>\n",
       "  </thead>\n",
       "  <tbody>\n",
       "    <tr>\n",
       "      <td>0</td>\n",
       "      <td>22</td>\n",
       "      <td>a little extra</td>\n",
       "      <td>strictly anything</td>\n",
       "      <td>socially</td>\n",
       "      <td>never</td>\n",
       "      <td>working on college/university</td>\n",
       "      <td>about me:&lt;br /&gt;\\n&lt;br /&gt;\\ni would love to think...</td>\n",
       "      <td>currently working as an international agent fo...</td>\n",
       "      <td>making people laugh.&lt;br /&gt;\\nranting about a go...</td>\n",
       "      <td>the way i look. i am a six foot half asian, ha...</td>\n",
       "      <td>books:&lt;br /&gt;\\nabsurdistan, the republic, of mi...</td>\n",
       "      <td>food.&lt;br /&gt;\\nwater.&lt;br /&gt;\\ncell phone.&lt;br /&gt;\\n...</td>\n",
       "      <td>duality and humorous things</td>\n",
       "      <td>trying to find someone to hang out with. i am ...</td>\n",
       "      <td>i am new to california and looking for someone...</td>\n",
       "      <td>you want to be swept off your feet!&lt;br /&gt;\\nyou...</td>\n",
       "      <td>asian, white</td>\n",
       "      <td>75.0</td>\n",
       "      <td>-1</td>\n",
       "      <td>transportation</td>\n",
       "      <td>2012-06-28-20-30</td>\n",
       "      <td>south san francisco, california</td>\n",
       "      <td>doesn&amp;rsquo;t have kids, but might want them</td>\n",
       "      <td>straight</td>\n",
       "      <td>likes dogs and likes cats</td>\n",
       "      <td>agnosticism and very serious about it</td>\n",
       "      <td>m</td>\n",
       "      <td>gemini</td>\n",
       "      <td>sometimes</td>\n",
       "      <td>english</td>\n",
       "      <td>single</td>\n",
       "    </tr>\n",
       "    <tr>\n",
       "      <td>1</td>\n",
       "      <td>35</td>\n",
       "      <td>average</td>\n",
       "      <td>mostly other</td>\n",
       "      <td>often</td>\n",
       "      <td>sometimes</td>\n",
       "      <td>working on space camp</td>\n",
       "      <td>i am a chef: this is what that means.&lt;br /&gt;\\n1...</td>\n",
       "      <td>dedicating everyday to being an unbelievable b...</td>\n",
       "      <td>being silly. having ridiculous amonts of fun w...</td>\n",
       "      <td>NaN</td>\n",
       "      <td>i am die hard christopher moore fan. i don't r...</td>\n",
       "      <td>delicious porkness in all of its glories.&lt;br /...</td>\n",
       "      <td>NaN</td>\n",
       "      <td>NaN</td>\n",
       "      <td>i am very open and will share just about anyth...</td>\n",
       "      <td>NaN</td>\n",
       "      <td>white</td>\n",
       "      <td>70.0</td>\n",
       "      <td>80000</td>\n",
       "      <td>hospitality / travel</td>\n",
       "      <td>2012-06-29-21-41</td>\n",
       "      <td>oakland, california</td>\n",
       "      <td>doesn&amp;rsquo;t have kids, but might want them</td>\n",
       "      <td>straight</td>\n",
       "      <td>likes dogs and likes cats</td>\n",
       "      <td>agnosticism but not too serious about it</td>\n",
       "      <td>m</td>\n",
       "      <td>cancer</td>\n",
       "      <td>no</td>\n",
       "      <td>english (fluently), spanish (poorly), french (...</td>\n",
       "      <td>single</td>\n",
       "    </tr>\n",
       "    <tr>\n",
       "      <td>2</td>\n",
       "      <td>38</td>\n",
       "      <td>thin</td>\n",
       "      <td>anything</td>\n",
       "      <td>socially</td>\n",
       "      <td>NaN</td>\n",
       "      <td>graduated from masters program</td>\n",
       "      <td>i'm not ashamed of much, but writing public te...</td>\n",
       "      <td>i make nerdy software for musicians, artists, ...</td>\n",
       "      <td>improvising in different contexts. alternating...</td>\n",
       "      <td>my large jaw and large glasses are the physica...</td>\n",
       "      <td>okay this is where the cultural matrix gets so...</td>\n",
       "      <td>movement&lt;br /&gt;\\nconversation&lt;br /&gt;\\ncreation&lt;b...</td>\n",
       "      <td>NaN</td>\n",
       "      <td>viewing. listening. dancing. talking. drinking...</td>\n",
       "      <td>when i was five years old, i was known as \"the...</td>\n",
       "      <td>you are bright, open, intense, silly, ironic, ...</td>\n",
       "      <td>NaN</td>\n",
       "      <td>68.0</td>\n",
       "      <td>-1</td>\n",
       "      <td>NaN</td>\n",
       "      <td>2012-06-27-09-10</td>\n",
       "      <td>san francisco, california</td>\n",
       "      <td>NaN</td>\n",
       "      <td>straight</td>\n",
       "      <td>has cats</td>\n",
       "      <td>NaN</td>\n",
       "      <td>m</td>\n",
       "      <td>pisces but it doesn&amp;rsquo;t matter</td>\n",
       "      <td>no</td>\n",
       "      <td>english, french, c++</td>\n",
       "      <td>available</td>\n",
       "    </tr>\n",
       "    <tr>\n",
       "      <td>3</td>\n",
       "      <td>23</td>\n",
       "      <td>thin</td>\n",
       "      <td>vegetarian</td>\n",
       "      <td>socially</td>\n",
       "      <td>NaN</td>\n",
       "      <td>working on college/university</td>\n",
       "      <td>i work in a library and go to school. . .</td>\n",
       "      <td>reading things written by old dead people</td>\n",
       "      <td>playing synthesizers and organizing books acco...</td>\n",
       "      <td>socially awkward but i do my best</td>\n",
       "      <td>bataille, celine, beckett. . .&lt;br /&gt;\\nlynch, j...</td>\n",
       "      <td>NaN</td>\n",
       "      <td>cats and german philosophy</td>\n",
       "      <td>NaN</td>\n",
       "      <td>NaN</td>\n",
       "      <td>you feel so inclined.</td>\n",
       "      <td>white</td>\n",
       "      <td>71.0</td>\n",
       "      <td>20000</td>\n",
       "      <td>student</td>\n",
       "      <td>2012-06-28-14-22</td>\n",
       "      <td>berkeley, california</td>\n",
       "      <td>doesn&amp;rsquo;t want kids</td>\n",
       "      <td>straight</td>\n",
       "      <td>likes cats</td>\n",
       "      <td>NaN</td>\n",
       "      <td>m</td>\n",
       "      <td>pisces</td>\n",
       "      <td>no</td>\n",
       "      <td>english, german (poorly)</td>\n",
       "      <td>single</td>\n",
       "    </tr>\n",
       "    <tr>\n",
       "      <td>4</td>\n",
       "      <td>29</td>\n",
       "      <td>athletic</td>\n",
       "      <td>NaN</td>\n",
       "      <td>socially</td>\n",
       "      <td>never</td>\n",
       "      <td>graduated from college/university</td>\n",
       "      <td>hey how's it going? currently vague on the pro...</td>\n",
       "      <td>work work work work + play</td>\n",
       "      <td>creating imagery to look at:&lt;br /&gt;\\nhttp://bag...</td>\n",
       "      <td>i smile a lot and my inquisitive nature</td>\n",
       "      <td>music: bands, rappers, musicians&lt;br /&gt;\\nat the...</td>\n",
       "      <td>NaN</td>\n",
       "      <td>NaN</td>\n",
       "      <td>NaN</td>\n",
       "      <td>NaN</td>\n",
       "      <td>NaN</td>\n",
       "      <td>asian, black, other</td>\n",
       "      <td>66.0</td>\n",
       "      <td>-1</td>\n",
       "      <td>artistic / musical / writer</td>\n",
       "      <td>2012-06-27-21-26</td>\n",
       "      <td>san francisco, california</td>\n",
       "      <td>NaN</td>\n",
       "      <td>straight</td>\n",
       "      <td>likes dogs and likes cats</td>\n",
       "      <td>NaN</td>\n",
       "      <td>m</td>\n",
       "      <td>aquarius</td>\n",
       "      <td>no</td>\n",
       "      <td>english</td>\n",
       "      <td>single</td>\n",
       "    </tr>\n",
       "  </tbody>\n",
       "</table>\n",
       "</div>"
      ],
      "text/plain": [
       "   age       body_type               diet    drinks      drugs  \\\n",
       "0   22  a little extra  strictly anything  socially      never   \n",
       "1   35         average       mostly other     often  sometimes   \n",
       "2   38            thin           anything  socially        NaN   \n",
       "3   23            thin         vegetarian  socially        NaN   \n",
       "4   29        athletic                NaN  socially      never   \n",
       "\n",
       "                           education  \\\n",
       "0      working on college/university   \n",
       "1              working on space camp   \n",
       "2     graduated from masters program   \n",
       "3      working on college/university   \n",
       "4  graduated from college/university   \n",
       "\n",
       "                                              essay0  \\\n",
       "0  about me:<br />\\n<br />\\ni would love to think...   \n",
       "1  i am a chef: this is what that means.<br />\\n1...   \n",
       "2  i'm not ashamed of much, but writing public te...   \n",
       "3          i work in a library and go to school. . .   \n",
       "4  hey how's it going? currently vague on the pro...   \n",
       "\n",
       "                                              essay1  \\\n",
       "0  currently working as an international agent fo...   \n",
       "1  dedicating everyday to being an unbelievable b...   \n",
       "2  i make nerdy software for musicians, artists, ...   \n",
       "3          reading things written by old dead people   \n",
       "4                         work work work work + play   \n",
       "\n",
       "                                              essay2  \\\n",
       "0  making people laugh.<br />\\nranting about a go...   \n",
       "1  being silly. having ridiculous amonts of fun w...   \n",
       "2  improvising in different contexts. alternating...   \n",
       "3  playing synthesizers and organizing books acco...   \n",
       "4  creating imagery to look at:<br />\\nhttp://bag...   \n",
       "\n",
       "                                              essay3  \\\n",
       "0  the way i look. i am a six foot half asian, ha...   \n",
       "1                                                NaN   \n",
       "2  my large jaw and large glasses are the physica...   \n",
       "3                  socially awkward but i do my best   \n",
       "4            i smile a lot and my inquisitive nature   \n",
       "\n",
       "                                              essay4  \\\n",
       "0  books:<br />\\nabsurdistan, the republic, of mi...   \n",
       "1  i am die hard christopher moore fan. i don't r...   \n",
       "2  okay this is where the cultural matrix gets so...   \n",
       "3  bataille, celine, beckett. . .<br />\\nlynch, j...   \n",
       "4  music: bands, rappers, musicians<br />\\nat the...   \n",
       "\n",
       "                                              essay5  \\\n",
       "0  food.<br />\\nwater.<br />\\ncell phone.<br />\\n...   \n",
       "1  delicious porkness in all of its glories.<br /...   \n",
       "2  movement<br />\\nconversation<br />\\ncreation<b...   \n",
       "3                                                NaN   \n",
       "4                                                NaN   \n",
       "\n",
       "                        essay6  \\\n",
       "0  duality and humorous things   \n",
       "1                          NaN   \n",
       "2                          NaN   \n",
       "3   cats and german philosophy   \n",
       "4                          NaN   \n",
       "\n",
       "                                              essay7  \\\n",
       "0  trying to find someone to hang out with. i am ...   \n",
       "1                                                NaN   \n",
       "2  viewing. listening. dancing. talking. drinking...   \n",
       "3                                                NaN   \n",
       "4                                                NaN   \n",
       "\n",
       "                                              essay8  \\\n",
       "0  i am new to california and looking for someone...   \n",
       "1  i am very open and will share just about anyth...   \n",
       "2  when i was five years old, i was known as \"the...   \n",
       "3                                                NaN   \n",
       "4                                                NaN   \n",
       "\n",
       "                                              essay9            ethnicity  \\\n",
       "0  you want to be swept off your feet!<br />\\nyou...         asian, white   \n",
       "1                                                NaN                white   \n",
       "2  you are bright, open, intense, silly, ironic, ...                  NaN   \n",
       "3                              you feel so inclined.                white   \n",
       "4                                                NaN  asian, black, other   \n",
       "\n",
       "   height  income                          job       last_online  \\\n",
       "0    75.0      -1               transportation  2012-06-28-20-30   \n",
       "1    70.0   80000         hospitality / travel  2012-06-29-21-41   \n",
       "2    68.0      -1                          NaN  2012-06-27-09-10   \n",
       "3    71.0   20000                      student  2012-06-28-14-22   \n",
       "4    66.0      -1  artistic / musical / writer  2012-06-27-21-26   \n",
       "\n",
       "                          location  \\\n",
       "0  south san francisco, california   \n",
       "1              oakland, california   \n",
       "2        san francisco, california   \n",
       "3             berkeley, california   \n",
       "4        san francisco, california   \n",
       "\n",
       "                                      offspring orientation  \\\n",
       "0  doesn&rsquo;t have kids, but might want them    straight   \n",
       "1  doesn&rsquo;t have kids, but might want them    straight   \n",
       "2                                           NaN    straight   \n",
       "3                       doesn&rsquo;t want kids    straight   \n",
       "4                                           NaN    straight   \n",
       "\n",
       "                        pets                                  religion sex  \\\n",
       "0  likes dogs and likes cats     agnosticism and very serious about it   m   \n",
       "1  likes dogs and likes cats  agnosticism but not too serious about it   m   \n",
       "2                   has cats                                       NaN   m   \n",
       "3                 likes cats                                       NaN   m   \n",
       "4  likes dogs and likes cats                                       NaN   m   \n",
       "\n",
       "                                 sign     smokes  \\\n",
       "0                              gemini  sometimes   \n",
       "1                              cancer         no   \n",
       "2  pisces but it doesn&rsquo;t matter         no   \n",
       "3                              pisces         no   \n",
       "4                            aquarius         no   \n",
       "\n",
       "                                              speaks     status  \n",
       "0                                            english     single  \n",
       "1  english (fluently), spanish (poorly), french (...     single  \n",
       "2                               english, french, c++  available  \n",
       "3                           english, german (poorly)     single  \n",
       "4                                            english     single  "
      ]
     },
     "execution_count": 241,
     "metadata": {},
     "output_type": "execute_result"
    }
   ],
   "source": [
    "df = pd.read_csv('profiles.csv')\n",
    "df.head(5)"
   ]
  },
  {
   "cell_type": "code",
   "execution_count": 242,
   "metadata": {},
   "outputs": [
    {
     "name": "stdout",
     "output_type": "stream",
     "text": [
      "<class 'pandas.core.frame.DataFrame'>\n",
      "RangeIndex: 59946 entries, 0 to 59945\n",
      "Data columns (total 31 columns):\n",
      "age            59946 non-null int64\n",
      "body_type      54650 non-null object\n",
      "diet           35551 non-null object\n",
      "drinks         56961 non-null object\n",
      "drugs          45866 non-null object\n",
      "education      53318 non-null object\n",
      "essay0         54458 non-null object\n",
      "essay1         52374 non-null object\n",
      "essay2         50308 non-null object\n",
      "essay3         48470 non-null object\n",
      "essay4         49409 non-null object\n",
      "essay5         49096 non-null object\n",
      "essay6         46175 non-null object\n",
      "essay7         47495 non-null object\n",
      "essay8         40721 non-null object\n",
      "essay9         47343 non-null object\n",
      "ethnicity      54266 non-null object\n",
      "height         59943 non-null float64\n",
      "income         59946 non-null int64\n",
      "job            51748 non-null object\n",
      "last_online    59946 non-null object\n",
      "location       59946 non-null object\n",
      "offspring      24385 non-null object\n",
      "orientation    59946 non-null object\n",
      "pets           40025 non-null object\n",
      "religion       39720 non-null object\n",
      "sex            59946 non-null object\n",
      "sign           48890 non-null object\n",
      "smokes         54434 non-null object\n",
      "speaks         59896 non-null object\n",
      "status         59946 non-null object\n",
      "dtypes: float64(1), int64(2), object(28)\n",
      "memory usage: 7.8+ MB\n"
     ]
    }
   ],
   "source": [
    "df.info()"
   ]
  },
  {
   "cell_type": "code",
   "execution_count": 243,
   "metadata": {},
   "outputs": [
    {
     "data": {
      "text/html": [
       "<div>\n",
       "<style scoped>\n",
       "    .dataframe tbody tr th:only-of-type {\n",
       "        vertical-align: middle;\n",
       "    }\n",
       "\n",
       "    .dataframe tbody tr th {\n",
       "        vertical-align: top;\n",
       "    }\n",
       "\n",
       "    .dataframe thead th {\n",
       "        text-align: right;\n",
       "    }\n",
       "</style>\n",
       "<table border=\"1\" class=\"dataframe\">\n",
       "  <thead>\n",
       "    <tr style=\"text-align: right;\">\n",
       "      <th></th>\n",
       "      <th>age</th>\n",
       "      <th>height</th>\n",
       "      <th>income</th>\n",
       "    </tr>\n",
       "  </thead>\n",
       "  <tbody>\n",
       "    <tr>\n",
       "      <td>count</td>\n",
       "      <td>59946.000000</td>\n",
       "      <td>59943.000000</td>\n",
       "      <td>59946.000000</td>\n",
       "    </tr>\n",
       "    <tr>\n",
       "      <td>mean</td>\n",
       "      <td>32.340290</td>\n",
       "      <td>68.295281</td>\n",
       "      <td>20033.222534</td>\n",
       "    </tr>\n",
       "    <tr>\n",
       "      <td>std</td>\n",
       "      <td>9.452779</td>\n",
       "      <td>3.994803</td>\n",
       "      <td>97346.192104</td>\n",
       "    </tr>\n",
       "    <tr>\n",
       "      <td>min</td>\n",
       "      <td>18.000000</td>\n",
       "      <td>1.000000</td>\n",
       "      <td>-1.000000</td>\n",
       "    </tr>\n",
       "    <tr>\n",
       "      <td>25%</td>\n",
       "      <td>26.000000</td>\n",
       "      <td>66.000000</td>\n",
       "      <td>-1.000000</td>\n",
       "    </tr>\n",
       "    <tr>\n",
       "      <td>50%</td>\n",
       "      <td>30.000000</td>\n",
       "      <td>68.000000</td>\n",
       "      <td>-1.000000</td>\n",
       "    </tr>\n",
       "    <tr>\n",
       "      <td>75%</td>\n",
       "      <td>37.000000</td>\n",
       "      <td>71.000000</td>\n",
       "      <td>-1.000000</td>\n",
       "    </tr>\n",
       "    <tr>\n",
       "      <td>max</td>\n",
       "      <td>110.000000</td>\n",
       "      <td>95.000000</td>\n",
       "      <td>1000000.000000</td>\n",
       "    </tr>\n",
       "  </tbody>\n",
       "</table>\n",
       "</div>"
      ],
      "text/plain": [
       "                age        height          income\n",
       "count  59946.000000  59943.000000    59946.000000\n",
       "mean      32.340290     68.295281    20033.222534\n",
       "std        9.452779      3.994803    97346.192104\n",
       "min       18.000000      1.000000       -1.000000\n",
       "25%       26.000000     66.000000       -1.000000\n",
       "50%       30.000000     68.000000       -1.000000\n",
       "75%       37.000000     71.000000       -1.000000\n",
       "max      110.000000     95.000000  1000000.000000"
      ]
     },
     "execution_count": 243,
     "metadata": {},
     "output_type": "execute_result"
    }
   ],
   "source": [
    "df.describe()"
   ]
  },
  {
   "cell_type": "code",
   "execution_count": 244,
   "metadata": {},
   "outputs": [
    {
     "name": "stdout",
     "output_type": "stream",
     "text": [
      "nnumber of categories: 48\n",
      "categories: ['gemini' 'cancer' 'pisces but it doesn&rsquo;t matter' 'pisces'\n",
      " 'aquarius' 'taurus' 'virgo' 'sagittarius'\n",
      " 'gemini but it doesn&rsquo;t matter' 'cancer but it doesn&rsquo;t matter'\n",
      " 'leo but it doesn&rsquo;t matter' nan\n",
      " 'aquarius but it doesn&rsquo;t matter'\n",
      " 'aries and it&rsquo;s fun to think about'\n",
      " 'libra but it doesn&rsquo;t matter'\n",
      " 'pisces and it&rsquo;s fun to think about' 'libra'\n",
      " 'taurus but it doesn&rsquo;t matter'\n",
      " 'sagittarius but it doesn&rsquo;t matter' 'scorpio and it matters a lot'\n",
      " 'gemini and it&rsquo;s fun to think about'\n",
      " 'leo and it&rsquo;s fun to think about'\n",
      " 'cancer and it&rsquo;s fun to think about'\n",
      " 'libra and it&rsquo;s fun to think about'\n",
      " 'aquarius and it&rsquo;s fun to think about'\n",
      " 'virgo but it doesn&rsquo;t matter'\n",
      " 'scorpio and it&rsquo;s fun to think about'\n",
      " 'capricorn but it doesn&rsquo;t matter' 'scorpio'\n",
      " 'capricorn and it&rsquo;s fun to think about' 'leo'\n",
      " 'aries but it doesn&rsquo;t matter' 'aries'\n",
      " 'scorpio but it doesn&rsquo;t matter'\n",
      " 'sagittarius and it&rsquo;s fun to think about'\n",
      " 'libra and it matters a lot' 'taurus and it&rsquo;s fun to think about'\n",
      " 'leo and it matters a lot' 'virgo and it&rsquo;s fun to think about'\n",
      " 'cancer and it matters a lot' 'capricorn' 'pisces and it matters a lot'\n",
      " 'aries and it matters a lot' 'capricorn and it matters a lot'\n",
      " 'aquarius and it matters a lot' 'sagittarius and it matters a lot'\n",
      " 'gemini and it matters a lot' 'taurus and it matters a lot'\n",
      " 'virgo and it matters a lot']\n"
     ]
    }
   ],
   "source": [
    "print(\"nnumber of categories:\",df['sign'].nunique())\n",
    "print(\"categories:\", df['sign'].unique())"
   ]
  },
  {
   "cell_type": "markdown",
   "metadata": {},
   "source": [
    "<b>Clean label data (zodiacs) for later implementation in ML classifier</b>¶"
   ]
  },
  {
   "cell_type": "code",
   "execution_count": 245,
   "metadata": {},
   "outputs": [
    {
     "name": "stdout",
     "output_type": "stream",
     "text": [
      "nnumber of categories: 12\n",
      "categories: ['gemini' 'cancer' 'pisces' 'aquarius' 'taurus' 'virgo' 'sagittarius'\n",
      " 'leo' nan 'aries' 'libra' 'scorpio' 'capricorn']\n"
     ]
    },
    {
     "data": {
      "text/plain": [
       "leo            4374\n",
       "gemini         4310\n",
       "libra          4207\n",
       "cancer         4206\n",
       "virgo          4141\n",
       "taurus         4140\n",
       "scorpio        4134\n",
       "aries          3989\n",
       "pisces         3946\n",
       "sagittarius    3942\n",
       "aquarius       3928\n",
       "capricorn      3573\n",
       "Name: signsCleaned, dtype: int64"
      ]
     },
     "execution_count": 245,
     "metadata": {},
     "output_type": "execute_result"
    }
   ],
   "source": [
    "df['signsCleaned'] = df['sign'].str.split().str.get(0)\n",
    "print(\"nnumber of categories:\", df['signsCleaned'].nunique())\n",
    "print(\"categories:\", df['signsCleaned'].unique())\n",
    "\n",
    "df['signsCleaned'].value_counts()"
   ]
  },
  {
   "cell_type": "markdown",
   "metadata": {},
   "source": [
    "<b>Visualize data and their dependencies</b>¶"
   ]
  },
  {
   "cell_type": "code",
   "execution_count": 246,
   "metadata": {},
   "outputs": [
    {
     "data": {
      "image/png": "[encoded data removed]",
      "text/plain": [
       "<Figure size 428.315x360 with 1 Axes>"
      ]
     },
     "metadata": {
      "needs_background": "light"
     },
     "output_type": "display_data"
    }
   ],
   "source": [
    "sns.displot(data=df, x=\"age\", hue=\"sex\", kind=\"hist\", binwidth = 5, multiple = \"stack\");"
   ]
  },
  {
   "cell_type": "code",
   "execution_count": 247,
   "metadata": {},
   "outputs": [
    {
     "data": {
      "image/png": "[encoded data removed]",
      "text/plain": [
       "<Figure size 432x288 with 1 Axes>"
      ]
     },
     "metadata": {
      "needs_background": "light"
     },
     "output_type": "display_data"
    }
   ],
   "source": [
    "sns.countplot(data=df, y=\"sex\");"
   ]
  },
  {
   "cell_type": "code",
   "execution_count": 248,
   "metadata": {},
   "outputs": [
    {
     "data": {
      "image/png": "[encoded data removed]",
      "text/plain": [
       "<Figure size 432x288 with 1 Axes>"
      ]
     },
     "metadata": {
      "needs_background": "light"
     },
     "output_type": "display_data"
    }
   ],
   "source": [
    "sns.countplot(data=df, y=\"drinks\");"
   ]
  },
  {
   "cell_type": "code",
   "execution_count": 249,
   "metadata": {
    "scrolled": true
   },
   "outputs": [
    {
     "data": {
      "image/png": "[encoded data removed]",
      "text/plain": [
       "<Figure size 432x288 with 1 Axes>"
      ]
     },
     "metadata": {
      "needs_background": "light"
     },
     "output_type": "display_data"
    }
   ],
   "source": [
    "sns.countplot(data=df, y=\"drugs\");"
   ]
  },
  {
   "cell_type": "code",
   "execution_count": 250,
   "metadata": {},
   "outputs": [
    {
     "data": {
      "image/png": "[encoded data removed]",
      "text/plain": [
       "<Figure size 432x288 with 1 Axes>"
      ]
     },
     "metadata": {
      "needs_background": "light"
     },
     "output_type": "display_data"
    }
   ],
   "source": [
    "sns.countplot(data=df, y=\"orientation\");"
   ]
  },
  {
   "cell_type": "code",
   "execution_count": 251,
   "metadata": {},
   "outputs": [
    {
     "data": {
      "image/png": "[encoded data removed]",
      "text/plain": [
       "<Figure size 432x288 with 1 Axes>"
      ]
     },
     "metadata": {
      "needs_background": "light"
     },
     "output_type": "display_data"
    }
   ],
   "source": [
    "sns.countplot(data=df, y=\"orientation\", hue = \"sex\");"
   ]
  },
  {
   "cell_type": "code",
   "execution_count": 252,
   "metadata": {},
   "outputs": [
    {
     "data": {
      "image/png": "[encoded data removed]",
      "text/plain": [
       "<Figure size 432x288 with 1 Axes>"
      ]
     },
     "metadata": {
      "needs_background": "light"
     },
     "output_type": "display_data"
    }
   ],
   "source": [
    "df['religionCleaned'] = df['religion'].str.split().str.get(0)\n",
    "sns.countplot(data=df, y=\"religionCleaned\");"
   ]
  },
  {
   "cell_type": "code",
   "execution_count": 253,
   "metadata": {},
   "outputs": [
    {
     "data": {
      "image/png": "[encoded data removed]",
      "text/plain": [
       "<Figure size 432x288 with 1 Axes>"
      ]
     },
     "metadata": {
      "needs_background": "light"
     },
     "output_type": "display_data"
    }
   ],
   "source": [
    "sns.countplot(data=df, y=\"signsCleaned\");"
   ]
  },
  {
   "cell_type": "code",
   "execution_count": 254,
   "metadata": {},
   "outputs": [
    {
     "data": {
      "image/png": "[encoded data removed]",
      "text/plain": [
       "<Figure size 432x288 with 1 Axes>"
      ]
     },
     "metadata": {
      "needs_background": "light"
     },
     "output_type": "display_data"
    }
   ],
   "source": [
    "sns.countplot(data=df, y=\"signsCleaned\", hue='sex');"
   ]
  },
  {
   "cell_type": "code",
   "execution_count": 255,
   "metadata": {},
   "outputs": [
    {
     "data": {
      "image/png": "[encoded data removed]",
      "text/plain": [
       "<Figure size 432x288 with 1 Axes>"
      ]
     },
     "metadata": {
      "needs_background": "light"
     },
     "output_type": "display_data"
    }
   ],
   "source": [
    "sns.countplot(data=df, y=\"status\");"
   ]
  },
  {
   "cell_type": "markdown",
   "metadata": {},
   "source": [
    "<b>1. Use NLP to detect language usage</b>\n",
    "First step is to clean text from tags, punctuation, space, digits"
   ]
  },
  {
   "cell_type": "code",
   "execution_count": 256,
   "metadata": {},
   "outputs": [],
   "source": [
    "def clean_txt(text_input):\n",
    "    clean_noise = []\n",
    "    \n",
    "    text_lst = [[str(items)] for items in text_input]\n",
    "    \n",
    "    for x in range(len(text_lst)):\n",
    "        for text in text_lst[x]:\n",
    "            no_tag = re.sub(r'<[^>]+>','', text)\n",
    "            no_space = re.sub(r'[ \\t\\r\\n]',' ', no_tag)\n",
    "            no_punct = re.sub(r'[^\\w\\s]','', no_space)\n",
    "            no_digit = re.sub(r'[ \\d+]', ' ', no_punct)\n",
    "            clean_noise.append([no_digit])\n",
    "            \n",
    "    return clean_noise\n"
   ]
  },
  {
   "cell_type": "markdown",
   "metadata": {},
   "source": [
    "<b>1. Use NLP to detect language usage</b>\n",
    "Second step is to tokenize text for NLP model integration"
   ]
  },
  {
   "cell_type": "code",
   "execution_count": 257,
   "metadata": {},
   "outputs": [
    {
     "name": "stdout",
     "output_type": "stream",
     "text": [
      "Counter({'life': 2, 'littl': 1, 'thing': 1, 'love': 1, 'laugh': 1, 'easi': 1, 'one': 1, 'find': 1, 'beauti': 1, 'humor': 1, 'ugli': 1, 'perspect': 1, 'make': 1, 'gratifi': 1, 'gift': 1, 'play': 1})\n"
     ]
    }
   ],
   "source": [
    "def tokenizer(cleaned_text):\n",
    "    text_tokenized = []\n",
    "    text_clean = clean_txt(cleaned_text)\n",
    "    \n",
    "    for x in range(len(text_clean)):\n",
    "        for words in text_clean[x]:\n",
    "            text_tokenized.append(word_tokenize(words))\n",
    "            \n",
    "    stop_words = set(stopwords.words('english'))\n",
    "    \n",
    "    #combined outer and inner loop to preserve nested list structure\n",
    "    no_stop_tokenized = [[word for word in sub_lst if word not in stop_words] for sub_lst in text_tokenized]\n",
    "    \n",
    "    stemmer = PorterStemmer()\n",
    "    stemmed_words = [[ stemmer.stem(word) for word in sub_lst ] for sub_lst in no_stop_tokenized]\n",
    "    \n",
    "    lemmatizer = WordNetLemmatizer()\n",
    "    lemmatized_words = [[ lemmatizer.lemmatize(word) for word in sub_lst ] for sub_lst in stemmed_words]\n",
    "    \n",
    "    return lemmatized_words\n",
    "text_tokenizer = tokenizer(df['essay0'][:1000])\n",
    "print(Counter(text_tokenizer[6]))"
   ]
  },
  {
   "cell_type": "markdown",
   "metadata": {},
   "source": [
    "<b>1. Use NLP to detect language usage</b>\n",
    "Third the gensim model is used to learn the used vocabulary and find contextural affiliated words in it"
   ]
  },
  {
   "cell_type": "code",
   "execution_count": 258,
   "metadata": {},
   "outputs": [],
   "source": [
    "embedding_model = gensim.models.Word2Vec(text_tokenizer, size=96, window=5, \n",
    "                                         min_count=1, workers=2, sg=1)"
   ]
  },
  {
   "cell_type": "code",
   "execution_count": 259,
   "metadata": {},
   "outputs": [
    {
     "name": "stdout",
     "output_type": "stream",
     "text": [
      "Word2Vec(vocab=7461, size=96, alpha=0.025)\n"
     ]
    }
   ],
   "source": [
    "print(embedding_model)"
   ]
  },
  {
   "cell_type": "code",
   "execution_count": 260,
   "metadata": {},
   "outputs": [],
   "source": [
    "similar_to_love = embedding_model.wv.most_similar(\"love\", topn=10)"
   ]
  },
  {
   "cell_type": "code",
   "execution_count": 261,
   "metadata": {},
   "outputs": [
    {
     "name": "stdout",
     "output_type": "stream",
     "text": [
      "[('time', 0.9917505979537964), ('spend', 0.9906144142150879), ('famili', 0.9897242784500122), ('friend', 0.9896790385246277), ('learn', 0.9888647198677063), ('enjoy', 0.9880415201187134), ('travel', 0.9874175190925598), ('hang', 0.9850575923919678), ('adventur', 0.9837889671325684), ('go', 0.982515275478363)]\n"
     ]
    }
   ],
   "source": [
    "print(similar_to_love)"
   ]
  },
  {
   "cell_type": "code",
   "execution_count": 262,
   "metadata": {},
   "outputs": [],
   "source": [
    "similar_to_life = embedding_model.wv.most_similar(\"life\", topn=10)"
   ]
  },
  {
   "cell_type": "code",
   "execution_count": 263,
   "metadata": {},
   "outputs": [
    {
     "name": "stdout",
     "output_type": "stream",
     "text": [
      "[('experi', 0.9951403141021729), ('adventur', 0.9939674139022827), ('alway', 0.9938527345657349), ('hang', 0.9931920170783997), ('mani', 0.9929726719856262), ('someth', 0.9928065538406372), ('realli', 0.9926366209983826), ('great', 0.992402970790863), ('happi', 0.992162823677063), ('much', 0.9911131858825684)]\n"
     ]
    }
   ],
   "source": [
    "print(similar_to_life)"
   ]
  },
  {
   "cell_type": "code",
   "execution_count": 264,
   "metadata": {},
   "outputs": [
    {
     "data": {
      "text/plain": [
       "699"
      ]
     },
     "execution_count": 264,
     "metadata": {},
     "output_type": "execute_result"
    }
   ],
   "source": [
    "df_high_edu = df.loc[df['education'] == 'college/university', ['essay0']]\n",
    "len(df_high_edu['essay0'].dropna())"
   ]
  },
  {
   "cell_type": "code",
   "execution_count": 265,
   "metadata": {},
   "outputs": [],
   "source": [
    "text_tokenizer_edu_high = tokenizer(df_high_edu['essay0'].dropna()[:1000])"
   ]
  },
  {
   "cell_type": "code",
   "execution_count": 266,
   "metadata": {},
   "outputs": [],
   "source": [
    "embedding_model_edu_high = gensim.models.Word2Vec(text_tokenizer_edu_high, size=96, window=5, \n",
    "                                         min_count=1, workers=2, sg=1)"
   ]
  },
  {
   "cell_type": "code",
   "execution_count": 267,
   "metadata": {},
   "outputs": [
    {
     "name": "stdout",
     "output_type": "stream",
     "text": [
      "Word2Vec(vocab=6110, size=96, alpha=0.025)\n"
     ]
    }
   ],
   "source": [
    "print(embedding_model_edu_high)"
   ]
  },
  {
   "cell_type": "code",
   "execution_count": 268,
   "metadata": {},
   "outputs": [],
   "source": [
    "similar_to_love_edu_high = embedding_model_edu_high.wv.most_similar(\"love\", topn=10)"
   ]
  },
  {
   "cell_type": "code",
   "execution_count": 269,
   "metadata": {},
   "outputs": [
    {
     "name": "stdout",
     "output_type": "stream",
     "text": [
      "[('enjoy', 0.9982902407646179), ('friend', 0.9971326589584351), ('life', 0.9966834783554077), ('good', 0.9966167211532593), ('adventur', 0.9966043829917908), ('experi', 0.9965324997901917), ('go', 0.9961884021759033), ('see', 0.996077835559845), ('make', 0.9959970712661743), ('learn', 0.9959776997566223)]\n"
     ]
    }
   ],
   "source": [
    "print(similar_to_love_edu_high)"
   ]
  },
  {
   "cell_type": "code",
   "execution_count": 270,
   "metadata": {},
   "outputs": [
    {
     "name": "stdout",
     "output_type": "stream",
     "text": [
      "[('fun', 0.9988909363746643), ('share', 0.9988815188407898), ('find', 0.9986252784729004), ('happi', 0.9985883831977844), ('enjoy', 0.9985382556915283), ('think', 0.9985184669494629), ('make', 0.9985060095787048), ('would', 0.9984320998191833), ('interest', 0.9983927011489868), ('someth', 0.9983527064323425)]\n"
     ]
    }
   ],
   "source": [
    "similar_to_life_edu_high = embedding_model_edu_high.wv.most_similar(\"life\", topn=10)\n",
    "print(similar_to_life_edu_high)"
   ]
  },
  {
   "cell_type": "code",
   "execution_count": 271,
   "metadata": {},
   "outputs": [
    {
     "data": {
      "text/plain": [
       "436      i not sure what to say???i'm new to the dating...\n",
       "4066                                        if rather talk\n",
       "5230     i'm good in friendly in looking for dating fri...\n",
       "6342     i am a good guy looking. for down. to earth. f...\n",
       "6468     sorry i'm not good selling my self on the comp...\n",
       "                               ...                        \n",
       "57693    i'm friggin' amazing or, so i've been told by ...\n",
       "58121    hi, im new to this site. here online trying to...\n",
       "58270    i'm a chill ass guy who like to kickit but i'm...\n",
       "58629    hello, my name is miguel and im from tucson ar...\n",
       "59044                                          gay for pay\n",
       "Name: essay0, Length: 69, dtype: object"
      ]
     },
     "execution_count": 271,
     "metadata": {},
     "output_type": "execute_result"
    }
   ],
   "source": [
    "df_middle_edu = df.loc[df['education'] == 'high school', ['essay0']]\n",
    "df_middle_edu['essay0'].dropna()"
   ]
  },
  {
   "cell_type": "code",
   "execution_count": 272,
   "metadata": {},
   "outputs": [],
   "source": [
    "text_tokenizer_edu_middle = tokenizer(df_middle_edu['essay0'].dropna()[:1000])"
   ]
  },
  {
   "cell_type": "code",
   "execution_count": 273,
   "metadata": {},
   "outputs": [],
   "source": [
    "embedding_model_edu_middle = gensim.models.Word2Vec(text_tokenizer_edu_middle, size=96, window=5, \n",
    "                                         min_count=1, workers=2, sg=1)"
   ]
  },
  {
   "cell_type": "code",
   "execution_count": 274,
   "metadata": {},
   "outputs": [
    {
     "name": "stdout",
     "output_type": "stream",
     "text": [
      "Word2Vec(vocab=843, size=96, alpha=0.025)\n"
     ]
    }
   ],
   "source": [
    "print(embedding_model_edu_middle)"
   ]
  },
  {
   "cell_type": "code",
   "execution_count": 275,
   "metadata": {},
   "outputs": [
    {
     "name": "stdout",
     "output_type": "stream",
     "text": [
      "[('im', 0.8985486030578613), ('like', 0.8893433213233948), ('work', 0.8638461828231812), ('dont', 0.8574308156967163), ('life', 0.856847882270813), ('care', 0.8504794836044312), ('time', 0.8500557541847229), ('good', 0.8424586057662964), ('get', 0.8371614813804626), ('long', 0.8328866362571716)]\n"
     ]
    }
   ],
   "source": [
    "similar_to_love_edu_middle = embedding_model_edu_middle.wv.most_similar(\"love\", topn=10)\n",
    "print(similar_to_love_edu_middle)"
   ]
  },
  {
   "cell_type": "code",
   "execution_count": 276,
   "metadata": {},
   "outputs": [
    {
     "name": "stdout",
     "output_type": "stream",
     "text": [
      "[('like', 0.9095103144645691), ('im', 0.9070842266082764), ('dont', 0.8727909326553345), ('get', 0.8705247640609741), ('one', 0.8661623001098633), ('time', 0.864281415939331), ('love', 0.856847882270813), ('work', 0.8561372756958008), ('look', 0.8466808199882507), ('heart', 0.8427436351776123)]\n"
     ]
    }
   ],
   "source": [
    "similar_to_life_edu_middle = embedding_model_edu_middle.wv.most_similar(\"life\", topn=10)\n",
    "print(similar_to_life_edu_middle)"
   ]
  },
  {
   "cell_type": "code",
   "execution_count": 277,
   "metadata": {},
   "outputs": [
    {
     "name": "stdout",
     "output_type": "stream",
     "text": [
      "Word2Vec(vocab=7491, size=96, alpha=0.025)\n"
     ]
    }
   ],
   "source": [
    "df_men = df.loc[df['sex'] == 'm', ['essay0']]\n",
    "df_men['essay0'].dropna()\n",
    "text_tokenizer_men = tokenizer(df_men['essay0'].dropna()[:1000])\n",
    "embedding_model_men = gensim.models.Word2Vec(text_tokenizer_men, size=96, window=5, \n",
    "                                         min_count=1, workers=2, sg=1)\n",
    "print(embedding_model_men)"
   ]
  },
  {
   "cell_type": "code",
   "execution_count": 278,
   "metadata": {},
   "outputs": [
    {
     "name": "stdout",
     "output_type": "stream",
     "text": [
      "[('enjoy', 0.9971455335617065), ('outdoor', 0.9910843968391418), ('go', 0.9873155355453491), ('lot', 0.9872851967811584), ('adventur', 0.9871775507926941), ('food', 0.984178364276886), ('travel', 0.9840499758720398), ('spend', 0.9830344319343567), ('time', 0.9823717474937439), ('restaur', 0.9789518713951111)]\n"
     ]
    }
   ],
   "source": [
    "similar_to_love_men = embedding_model_men.wv.most_similar(\"love\", topn=10)\n",
    "print(similar_to_love_men)"
   ]
  },
  {
   "cell_type": "code",
   "execution_count": 279,
   "metadata": {},
   "outputs": [
    {
     "name": "stdout",
     "output_type": "stream",
     "text": [
      "[('nice', 0.9978913068771362), ('open', 0.9976065754890442), ('relationship', 0.9969161152839661), ('see', 0.9961072206497192), ('guy', 0.9960751533508301), ('id', 0.9959503412246704), ('find', 0.9959201216697693), ('make', 0.9957951903343201), ('would', 0.9954898357391357), ('right', 0.9954742193222046)]\n"
     ]
    }
   ],
   "source": [
    "men_similar_to_women = embedding_model_men.wv.most_similar(\"woman\", topn=10)\n",
    "print(men_similar_to_women)"
   ]
  },
  {
   "cell_type": "code",
   "execution_count": 280,
   "metadata": {},
   "outputs": [
    {
     "name": "stdout",
     "output_type": "stream",
     "text": [
      "Word2Vec(vocab=7840, size=96, alpha=0.025)\n"
     ]
    }
   ],
   "source": [
    "df_women = df.loc[df['sex'] == 'f', ['essay0']]\n",
    "df_women['essay0'].dropna()\n",
    "text_tokenizer_women = tokenizer(df_women['essay0'].dropna()[:1000])\n",
    "embedding_model_women = gensim.models.Word2Vec(text_tokenizer_women, size=96, window=5, \n",
    "                                         min_count=1, workers=2, sg=1)\n",
    "print(embedding_model_women)"
   ]
  },
  {
   "cell_type": "code",
   "execution_count": 281,
   "metadata": {},
   "outputs": [
    {
     "name": "stdout",
     "output_type": "stream",
     "text": [
      "[('go', 0.990653932094574), ('enjoy', 0.9882551431655884), ('spend', 0.9871934652328491), ('travel', 0.9864898324012756), ('outdoor', 0.9833022952079773), ('hang', 0.9805626273155212), ('restaur', 0.9803595542907715), ('activ', 0.9775236248970032), ('around', 0.9750984311103821), ('adventur', 0.974919855594635)]\n"
     ]
    }
   ],
   "source": [
    "similar_to_love_women = embedding_model_women.wv.most_similar(\"love\", topn=10)\n",
    "print(similar_to_love_women)"
   ]
  },
  {
   "cell_type": "code",
   "execution_count": 282,
   "metadata": {},
   "outputs": [
    {
     "name": "stdout",
     "output_type": "stream",
     "text": [
      "[('guy', 0.9966647028923035), ('smart', 0.9966485500335693), ('respect', 0.9957109093666077), ('doesnt', 0.9953256249427795), ('real', 0.9952830076217651), ('mind', 0.9946012496948242), ('seriou', 0.9945735335350037), ('funni', 0.9945569038391113), ('confid', 0.9931820631027222), ('sarcast', 0.9930211901664734)]\n"
     ]
    }
   ],
   "source": [
    "women_similar_to_men = embedding_model_women.wv.most_similar(\"man\", topn=10)\n",
    "print(women_similar_to_men)"
   ]
  },
  {
   "cell_type": "markdown",
   "metadata": {},
   "source": [
    "<b>2. Use ML Random Forest to forecast zodiac signs</b>\n",
    "First make a copy of the dataframe to prepare it for implementation into classifier"
   ]
  },
  {
   "cell_type": "code",
   "execution_count": 283,
   "metadata": {},
   "outputs": [
    {
     "data": {
      "text/plain": [
       "48890"
      ]
     },
     "execution_count": 283,
     "metadata": {},
     "output_type": "execute_result"
    }
   ],
   "source": [
    "df_with_zodiac = df.copy()\n",
    "df_with_zodiac = df_with_zodiac.dropna(subset = ['sign'])\n",
    "df_with_zodiac.head(4)\n",
    "len(df_with_zodiac)"
   ]
  },
  {
   "cell_type": "markdown",
   "metadata": {},
   "source": [
    "<b>2. Use ML Random Forest to forecast zodiac signs</b>\n",
    "Second decide which features should be incorporated into the training model and drop NAN rows"
   ]
  },
  {
   "cell_type": "code",
   "execution_count": 284,
   "metadata": {},
   "outputs": [
    {
     "data": {
      "text/plain": [
       "(36876, 6)"
      ]
     },
     "execution_count": 284,
     "metadata": {},
     "output_type": "execute_result"
    }
   ],
   "source": [
    "features = ['drugs','orientation', 'status', 'sex', 'drinks', 'signsCleaned']\n",
    "df_zodiacs = df[features].dropna()\n",
    "df_zodiacs.shape"
   ]
  },
  {
   "cell_type": "markdown",
   "metadata": {},
   "source": [
    "<b>2. Use ML Random Forest to forecast zodiac signs</b>\n",
    "Third use dummy labelling of categorical data or own assign integer labbeling (the latter was employed here)"
   ]
  },
  {
   "cell_type": "markdown",
   "metadata": {},
   "source": [
    "if dummies would be used, the following code would be appropriate to convert the categorical data into 0 and 1\n",
    "\n",
    "for col in cols[:-1]:\n",
    "    df = pd.get_dummies(df, columns=[col], prefix = [col])"
   ]
  },
  {
   "cell_type": "code",
   "execution_count": 285,
   "metadata": {},
   "outputs": [
    {
     "data": {
      "text/html": [
       "<div>\n",
       "<style scoped>\n",
       "    .dataframe tbody tr th:only-of-type {\n",
       "        vertical-align: middle;\n",
       "    }\n",
       "\n",
       "    .dataframe tbody tr th {\n",
       "        vertical-align: top;\n",
       "    }\n",
       "\n",
       "    .dataframe thead th {\n",
       "        text-align: right;\n",
       "    }\n",
       "</style>\n",
       "<table border=\"1\" class=\"dataframe\">\n",
       "  <thead>\n",
       "    <tr style=\"text-align: right;\">\n",
       "      <th></th>\n",
       "      <th>drugs</th>\n",
       "      <th>orientation</th>\n",
       "      <th>status</th>\n",
       "      <th>sex</th>\n",
       "      <th>drinks</th>\n",
       "      <th>signsCleaned</th>\n",
       "    </tr>\n",
       "  </thead>\n",
       "  <tbody>\n",
       "    <tr>\n",
       "      <td>0</td>\n",
       "      <td>never</td>\n",
       "      <td>straight</td>\n",
       "      <td>single</td>\n",
       "      <td>m</td>\n",
       "      <td>socially</td>\n",
       "      <td>gemini</td>\n",
       "    </tr>\n",
       "    <tr>\n",
       "      <td>1</td>\n",
       "      <td>sometimes</td>\n",
       "      <td>straight</td>\n",
       "      <td>single</td>\n",
       "      <td>m</td>\n",
       "      <td>often</td>\n",
       "      <td>cancer</td>\n",
       "    </tr>\n",
       "    <tr>\n",
       "      <td>4</td>\n",
       "      <td>never</td>\n",
       "      <td>straight</td>\n",
       "      <td>single</td>\n",
       "      <td>m</td>\n",
       "      <td>socially</td>\n",
       "      <td>aquarius</td>\n",
       "    </tr>\n",
       "    <tr>\n",
       "      <td>6</td>\n",
       "      <td>never</td>\n",
       "      <td>straight</td>\n",
       "      <td>single</td>\n",
       "      <td>f</td>\n",
       "      <td>socially</td>\n",
       "      <td>virgo</td>\n",
       "    </tr>\n",
       "    <tr>\n",
       "      <td>7</td>\n",
       "      <td>never</td>\n",
       "      <td>straight</td>\n",
       "      <td>single</td>\n",
       "      <td>f</td>\n",
       "      <td>socially</td>\n",
       "      <td>sagittarius</td>\n",
       "    </tr>\n",
       "  </tbody>\n",
       "</table>\n",
       "</div>"
      ],
      "text/plain": [
       "       drugs orientation  status sex    drinks signsCleaned\n",
       "0      never    straight  single   m  socially       gemini\n",
       "1  sometimes    straight  single   m     often       cancer\n",
       "4      never    straight  single   m  socially     aquarius\n",
       "6      never    straight  single   f  socially        virgo\n",
       "7      never    straight  single   f  socially  sagittarius"
      ]
     },
     "execution_count": 285,
     "metadata": {},
     "output_type": "execute_result"
    }
   ],
   "source": [
    "df_zodiacs.head()"
   ]
  },
  {
   "cell_type": "code",
   "execution_count": 286,
   "metadata": {},
   "outputs": [
    {
     "data": {
      "text/plain": [
       "leo            3273\n",
       "gemini         3236\n",
       "cancer         3181\n",
       "virgo          3181\n",
       "libra          3166\n",
       "taurus         3136\n",
       "scorpio        3094\n",
       "aries          3030\n",
       "aquarius       2956\n",
       "sagittarius    2954\n",
       "pisces         2937\n",
       "capricorn      2732\n",
       "Name: signsCleaned, dtype: int64"
      ]
     },
     "execution_count": 286,
     "metadata": {},
     "output_type": "execute_result"
    }
   ],
   "source": [
    "df_zodiacs['signsCleaned'].value_counts()"
   ]
  },
  {
   "cell_type": "code",
   "execution_count": 287,
   "metadata": {},
   "outputs": [
    {
     "data": {
      "text/html": [
       "<div>\n",
       "<style scoped>\n",
       "    .dataframe tbody tr th:only-of-type {\n",
       "        vertical-align: middle;\n",
       "    }\n",
       "\n",
       "    .dataframe tbody tr th {\n",
       "        vertical-align: top;\n",
       "    }\n",
       "\n",
       "    .dataframe thead th {\n",
       "        text-align: right;\n",
       "    }\n",
       "</style>\n",
       "<table border=\"1\" class=\"dataframe\">\n",
       "  <thead>\n",
       "    <tr style=\"text-align: right;\">\n",
       "      <th></th>\n",
       "      <th>drugs</th>\n",
       "      <th>orientation</th>\n",
       "      <th>status</th>\n",
       "      <th>sex</th>\n",
       "      <th>drinks</th>\n",
       "      <th>signsCleaned</th>\n",
       "    </tr>\n",
       "  </thead>\n",
       "  <tbody>\n",
       "    <tr>\n",
       "      <td>1</td>\n",
       "      <td>sometimes</td>\n",
       "      <td>straight</td>\n",
       "      <td>single</td>\n",
       "      <td>m</td>\n",
       "      <td>often</td>\n",
       "      <td>cancer</td>\n",
       "    </tr>\n",
       "    <tr>\n",
       "      <td>24</td>\n",
       "      <td>sometimes</td>\n",
       "      <td>straight</td>\n",
       "      <td>single</td>\n",
       "      <td>m</td>\n",
       "      <td>socially</td>\n",
       "      <td>scorpio</td>\n",
       "    </tr>\n",
       "    <tr>\n",
       "      <td>29</td>\n",
       "      <td>sometimes</td>\n",
       "      <td>straight</td>\n",
       "      <td>single</td>\n",
       "      <td>m</td>\n",
       "      <td>socially</td>\n",
       "      <td>leo</td>\n",
       "    </tr>\n",
       "    <tr>\n",
       "      <td>42</td>\n",
       "      <td>sometimes</td>\n",
       "      <td>straight</td>\n",
       "      <td>single</td>\n",
       "      <td>m</td>\n",
       "      <td>often</td>\n",
       "      <td>gemini</td>\n",
       "    </tr>\n",
       "    <tr>\n",
       "      <td>44</td>\n",
       "      <td>sometimes</td>\n",
       "      <td>bisexual</td>\n",
       "      <td>single</td>\n",
       "      <td>f</td>\n",
       "      <td>socially</td>\n",
       "      <td>aquarius</td>\n",
       "    </tr>\n",
       "    <tr>\n",
       "      <td>...</td>\n",
       "      <td>...</td>\n",
       "      <td>...</td>\n",
       "      <td>...</td>\n",
       "      <td>...</td>\n",
       "      <td>...</td>\n",
       "      <td>...</td>\n",
       "    </tr>\n",
       "    <tr>\n",
       "      <td>59920</td>\n",
       "      <td>sometimes</td>\n",
       "      <td>straight</td>\n",
       "      <td>single</td>\n",
       "      <td>f</td>\n",
       "      <td>socially</td>\n",
       "      <td>sagittarius</td>\n",
       "    </tr>\n",
       "    <tr>\n",
       "      <td>59922</td>\n",
       "      <td>sometimes</td>\n",
       "      <td>straight</td>\n",
       "      <td>single</td>\n",
       "      <td>f</td>\n",
       "      <td>socially</td>\n",
       "      <td>cancer</td>\n",
       "    </tr>\n",
       "    <tr>\n",
       "      <td>59929</td>\n",
       "      <td>sometimes</td>\n",
       "      <td>straight</td>\n",
       "      <td>single</td>\n",
       "      <td>m</td>\n",
       "      <td>socially</td>\n",
       "      <td>pisces</td>\n",
       "    </tr>\n",
       "    <tr>\n",
       "      <td>59932</td>\n",
       "      <td>sometimes</td>\n",
       "      <td>straight</td>\n",
       "      <td>single</td>\n",
       "      <td>m</td>\n",
       "      <td>socially</td>\n",
       "      <td>sagittarius</td>\n",
       "    </tr>\n",
       "    <tr>\n",
       "      <td>59942</td>\n",
       "      <td>sometimes</td>\n",
       "      <td>straight</td>\n",
       "      <td>single</td>\n",
       "      <td>m</td>\n",
       "      <td>often</td>\n",
       "      <td>leo</td>\n",
       "    </tr>\n",
       "  </tbody>\n",
       "</table>\n",
       "<p>6751 rows × 6 columns</p>\n",
       "</div>"
      ],
      "text/plain": [
       "           drugs orientation  status sex    drinks signsCleaned\n",
       "1      sometimes    straight  single   m     often       cancer\n",
       "24     sometimes    straight  single   m  socially      scorpio\n",
       "29     sometimes    straight  single   m  socially          leo\n",
       "42     sometimes    straight  single   m     often       gemini\n",
       "44     sometimes    bisexual  single   f  socially     aquarius\n",
       "...          ...         ...     ...  ..       ...          ...\n",
       "59920  sometimes    straight  single   f  socially  sagittarius\n",
       "59922  sometimes    straight  single   f  socially       cancer\n",
       "59929  sometimes    straight  single   m  socially       pisces\n",
       "59932  sometimes    straight  single   m  socially  sagittarius\n",
       "59942  sometimes    straight  single   m     often          leo\n",
       "\n",
       "[6751 rows x 6 columns]"
      ]
     },
     "execution_count": 287,
     "metadata": {},
     "output_type": "execute_result"
    }
   ],
   "source": [
    "df_zodiacs.loc[df_zodiacs['drugs'] == 'sometimes']"
   ]
  },
  {
   "cell_type": "code",
   "execution_count": 288,
   "metadata": {},
   "outputs": [
    {
     "data": {
      "text/html": [
       "<div>\n",
       "<style scoped>\n",
       "    .dataframe tbody tr th:only-of-type {\n",
       "        vertical-align: middle;\n",
       "    }\n",
       "\n",
       "    .dataframe tbody tr th {\n",
       "        vertical-align: top;\n",
       "    }\n",
       "\n",
       "    .dataframe thead th {\n",
       "        text-align: right;\n",
       "    }\n",
       "</style>\n",
       "<table border=\"1\" class=\"dataframe\">\n",
       "  <thead>\n",
       "    <tr style=\"text-align: right;\">\n",
       "      <th></th>\n",
       "      <th>orientation</th>\n",
       "      <th>status</th>\n",
       "      <th>sex</th>\n",
       "      <th>drinks</th>\n",
       "      <th>signsCleaned</th>\n",
       "    </tr>\n",
       "    <tr>\n",
       "      <th>drugs</th>\n",
       "      <th></th>\n",
       "      <th></th>\n",
       "      <th></th>\n",
       "      <th></th>\n",
       "      <th></th>\n",
       "    </tr>\n",
       "  </thead>\n",
       "  <tbody>\n",
       "    <tr>\n",
       "      <td>never</td>\n",
       "      <td>29790</td>\n",
       "      <td>29790</td>\n",
       "      <td>29790</td>\n",
       "      <td>29790</td>\n",
       "      <td>29790</td>\n",
       "    </tr>\n",
       "    <tr>\n",
       "      <td>often</td>\n",
       "      <td>335</td>\n",
       "      <td>335</td>\n",
       "      <td>335</td>\n",
       "      <td>335</td>\n",
       "      <td>335</td>\n",
       "    </tr>\n",
       "    <tr>\n",
       "      <td>sometimes</td>\n",
       "      <td>6751</td>\n",
       "      <td>6751</td>\n",
       "      <td>6751</td>\n",
       "      <td>6751</td>\n",
       "      <td>6751</td>\n",
       "    </tr>\n",
       "  </tbody>\n",
       "</table>\n",
       "</div>"
      ],
      "text/plain": [
       "           orientation  status    sex  drinks  signsCleaned\n",
       "drugs                                                      \n",
       "never            29790   29790  29790   29790         29790\n",
       "often              335     335    335     335           335\n",
       "sometimes         6751    6751   6751    6751          6751"
      ]
     },
     "execution_count": 288,
     "metadata": {},
     "output_type": "execute_result"
    }
   ],
   "source": [
    "df_zodiacs.groupby(df_zodiacs['drugs']).count()"
   ]
  },
  {
   "cell_type": "code",
   "execution_count": 289,
   "metadata": {},
   "outputs": [
    {
     "data": {
      "text/html": [
       "<div>\n",
       "<style scoped>\n",
       "    .dataframe tbody tr th:only-of-type {\n",
       "        vertical-align: middle;\n",
       "    }\n",
       "\n",
       "    .dataframe tbody tr th {\n",
       "        vertical-align: top;\n",
       "    }\n",
       "\n",
       "    .dataframe thead th {\n",
       "        text-align: right;\n",
       "    }\n",
       "</style>\n",
       "<table border=\"1\" class=\"dataframe\">\n",
       "  <thead>\n",
       "    <tr style=\"text-align: right;\">\n",
       "      <th></th>\n",
       "      <th>drugs</th>\n",
       "      <th>orientation</th>\n",
       "      <th>status</th>\n",
       "      <th>sex</th>\n",
       "      <th>drinks</th>\n",
       "      <th>signsCleaned</th>\n",
       "    </tr>\n",
       "  </thead>\n",
       "  <tbody>\n",
       "    <tr>\n",
       "      <td>0</td>\n",
       "      <td>0</td>\n",
       "      <td>straight</td>\n",
       "      <td>single</td>\n",
       "      <td>m</td>\n",
       "      <td>socially</td>\n",
       "      <td>gemini</td>\n",
       "    </tr>\n",
       "    <tr>\n",
       "      <td>1</td>\n",
       "      <td>1</td>\n",
       "      <td>straight</td>\n",
       "      <td>single</td>\n",
       "      <td>m</td>\n",
       "      <td>often</td>\n",
       "      <td>cancer</td>\n",
       "    </tr>\n",
       "    <tr>\n",
       "      <td>4</td>\n",
       "      <td>0</td>\n",
       "      <td>straight</td>\n",
       "      <td>single</td>\n",
       "      <td>m</td>\n",
       "      <td>socially</td>\n",
       "      <td>aquarius</td>\n",
       "    </tr>\n",
       "  </tbody>\n",
       "</table>\n",
       "</div>"
      ],
      "text/plain": [
       "   drugs orientation  status sex    drinks signsCleaned\n",
       "0      0    straight  single   m  socially       gemini\n",
       "1      1    straight  single   m     often       cancer\n",
       "4      0    straight  single   m  socially     aquarius"
      ]
     },
     "execution_count": 289,
     "metadata": {},
     "output_type": "execute_result"
    }
   ],
   "source": [
    "df_zodiacs['drugs'] = df_zodiacs['drugs'].apply(lambda row: 0 if row == 'never'\n",
    "                                                            else (1 if row == 'sometimes' else 2))\n",
    "df_zodiacs.head(3)"
   ]
  },
  {
   "cell_type": "code",
   "execution_count": 290,
   "metadata": {},
   "outputs": [
    {
     "data": {
      "text/html": [
       "<div>\n",
       "<style scoped>\n",
       "    .dataframe tbody tr th:only-of-type {\n",
       "        vertical-align: middle;\n",
       "    }\n",
       "\n",
       "    .dataframe tbody tr th {\n",
       "        vertical-align: top;\n",
       "    }\n",
       "\n",
       "    .dataframe thead th {\n",
       "        text-align: right;\n",
       "    }\n",
       "</style>\n",
       "<table border=\"1\" class=\"dataframe\">\n",
       "  <thead>\n",
       "    <tr style=\"text-align: right;\">\n",
       "      <th></th>\n",
       "      <th>drugs</th>\n",
       "      <th>status</th>\n",
       "      <th>sex</th>\n",
       "      <th>drinks</th>\n",
       "      <th>signsCleaned</th>\n",
       "    </tr>\n",
       "    <tr>\n",
       "      <th>orientation</th>\n",
       "      <th></th>\n",
       "      <th></th>\n",
       "      <th></th>\n",
       "      <th></th>\n",
       "      <th></th>\n",
       "    </tr>\n",
       "  </thead>\n",
       "  <tbody>\n",
       "    <tr>\n",
       "      <td>bisexual</td>\n",
       "      <td>1717</td>\n",
       "      <td>1717</td>\n",
       "      <td>1717</td>\n",
       "      <td>1717</td>\n",
       "      <td>1717</td>\n",
       "    </tr>\n",
       "    <tr>\n",
       "      <td>gay</td>\n",
       "      <td>3785</td>\n",
       "      <td>3785</td>\n",
       "      <td>3785</td>\n",
       "      <td>3785</td>\n",
       "      <td>3785</td>\n",
       "    </tr>\n",
       "    <tr>\n",
       "      <td>straight</td>\n",
       "      <td>31374</td>\n",
       "      <td>31374</td>\n",
       "      <td>31374</td>\n",
       "      <td>31374</td>\n",
       "      <td>31374</td>\n",
       "    </tr>\n",
       "  </tbody>\n",
       "</table>\n",
       "</div>"
      ],
      "text/plain": [
       "             drugs  status    sex  drinks  signsCleaned\n",
       "orientation                                            \n",
       "bisexual      1717    1717   1717    1717          1717\n",
       "gay           3785    3785   3785    3785          3785\n",
       "straight     31374   31374  31374   31374         31374"
      ]
     },
     "execution_count": 290,
     "metadata": {},
     "output_type": "execute_result"
    }
   ],
   "source": [
    "df_zodiacs.groupby(df_zodiacs['orientation']).count()"
   ]
  },
  {
   "cell_type": "code",
   "execution_count": 291,
   "metadata": {},
   "outputs": [],
   "source": [
    "df_zodiacs['orientation'] = df_zodiacs['orientation'].apply(lambda row: 0 if row == 'straight' \n",
    "                                                                        else (1 if row == 'bisexual' else 2))"
   ]
  },
  {
   "cell_type": "code",
   "execution_count": 292,
   "metadata": {},
   "outputs": [
    {
     "data": {
      "text/html": [
       "<div>\n",
       "<style scoped>\n",
       "    .dataframe tbody tr th:only-of-type {\n",
       "        vertical-align: middle;\n",
       "    }\n",
       "\n",
       "    .dataframe tbody tr th {\n",
       "        vertical-align: top;\n",
       "    }\n",
       "\n",
       "    .dataframe thead th {\n",
       "        text-align: right;\n",
       "    }\n",
       "</style>\n",
       "<table border=\"1\" class=\"dataframe\">\n",
       "  <thead>\n",
       "    <tr style=\"text-align: right;\">\n",
       "      <th></th>\n",
       "      <th>drugs</th>\n",
       "      <th>orientation</th>\n",
       "      <th>status</th>\n",
       "      <th>sex</th>\n",
       "      <th>drinks</th>\n",
       "      <th>signsCleaned</th>\n",
       "    </tr>\n",
       "  </thead>\n",
       "  <tbody>\n",
       "    <tr>\n",
       "      <td>0</td>\n",
       "      <td>0</td>\n",
       "      <td>0</td>\n",
       "      <td>single</td>\n",
       "      <td>m</td>\n",
       "      <td>socially</td>\n",
       "      <td>gemini</td>\n",
       "    </tr>\n",
       "    <tr>\n",
       "      <td>1</td>\n",
       "      <td>1</td>\n",
       "      <td>0</td>\n",
       "      <td>single</td>\n",
       "      <td>m</td>\n",
       "      <td>often</td>\n",
       "      <td>cancer</td>\n",
       "    </tr>\n",
       "    <tr>\n",
       "      <td>4</td>\n",
       "      <td>0</td>\n",
       "      <td>0</td>\n",
       "      <td>single</td>\n",
       "      <td>m</td>\n",
       "      <td>socially</td>\n",
       "      <td>aquarius</td>\n",
       "    </tr>\n",
       "  </tbody>\n",
       "</table>\n",
       "</div>"
      ],
      "text/plain": [
       "   drugs  orientation  status sex    drinks signsCleaned\n",
       "0      0            0  single   m  socially       gemini\n",
       "1      1            0  single   m     often       cancer\n",
       "4      0            0  single   m  socially     aquarius"
      ]
     },
     "execution_count": 292,
     "metadata": {},
     "output_type": "execute_result"
    }
   ],
   "source": [
    "df_zodiacs.head(3)"
   ]
  },
  {
   "cell_type": "code",
   "execution_count": 293,
   "metadata": {},
   "outputs": [
    {
     "data": {
      "text/html": [
       "<div>\n",
       "<style scoped>\n",
       "    .dataframe tbody tr th:only-of-type {\n",
       "        vertical-align: middle;\n",
       "    }\n",
       "\n",
       "    .dataframe tbody tr th {\n",
       "        vertical-align: top;\n",
       "    }\n",
       "\n",
       "    .dataframe thead th {\n",
       "        text-align: right;\n",
       "    }\n",
       "</style>\n",
       "<table border=\"1\" class=\"dataframe\">\n",
       "  <thead>\n",
       "    <tr style=\"text-align: right;\">\n",
       "      <th></th>\n",
       "      <th>drugs</th>\n",
       "      <th>orientation</th>\n",
       "      <th>status</th>\n",
       "      <th>sex</th>\n",
       "      <th>drinks</th>\n",
       "      <th>signsCleaned</th>\n",
       "    </tr>\n",
       "    <tr>\n",
       "      <th>status</th>\n",
       "      <th></th>\n",
       "      <th></th>\n",
       "      <th></th>\n",
       "      <th></th>\n",
       "      <th></th>\n",
       "      <th></th>\n",
       "    </tr>\n",
       "  </thead>\n",
       "  <tbody>\n",
       "    <tr>\n",
       "      <td>available</td>\n",
       "      <td>1140</td>\n",
       "      <td>1140</td>\n",
       "      <td>1140</td>\n",
       "      <td>1140</td>\n",
       "      <td>1140</td>\n",
       "      <td>1140</td>\n",
       "    </tr>\n",
       "    <tr>\n",
       "      <td>married</td>\n",
       "      <td>212</td>\n",
       "      <td>212</td>\n",
       "      <td>212</td>\n",
       "      <td>212</td>\n",
       "      <td>212</td>\n",
       "      <td>212</td>\n",
       "    </tr>\n",
       "    <tr>\n",
       "      <td>seeing someone</td>\n",
       "      <td>1324</td>\n",
       "      <td>1324</td>\n",
       "      <td>1324</td>\n",
       "      <td>1324</td>\n",
       "      <td>1324</td>\n",
       "      <td>1324</td>\n",
       "    </tr>\n",
       "    <tr>\n",
       "      <td>single</td>\n",
       "      <td>34194</td>\n",
       "      <td>34194</td>\n",
       "      <td>34194</td>\n",
       "      <td>34194</td>\n",
       "      <td>34194</td>\n",
       "      <td>34194</td>\n",
       "    </tr>\n",
       "    <tr>\n",
       "      <td>unknown</td>\n",
       "      <td>6</td>\n",
       "      <td>6</td>\n",
       "      <td>6</td>\n",
       "      <td>6</td>\n",
       "      <td>6</td>\n",
       "      <td>6</td>\n",
       "    </tr>\n",
       "  </tbody>\n",
       "</table>\n",
       "</div>"
      ],
      "text/plain": [
       "                drugs  orientation  status    sex  drinks  signsCleaned\n",
       "status                                                                 \n",
       "available        1140         1140    1140   1140    1140          1140\n",
       "married           212          212     212    212     212           212\n",
       "seeing someone   1324         1324    1324   1324    1324          1324\n",
       "single          34194        34194   34194  34194   34194         34194\n",
       "unknown             6            6       6      6       6             6"
      ]
     },
     "execution_count": 293,
     "metadata": {},
     "output_type": "execute_result"
    }
   ],
   "source": [
    "df_zodiacs.groupby(df_zodiacs['status']).count()"
   ]
  },
  {
   "cell_type": "code",
   "execution_count": 294,
   "metadata": {},
   "outputs": [
    {
     "data": {
      "text/html": [
       "<div>\n",
       "<style scoped>\n",
       "    .dataframe tbody tr th:only-of-type {\n",
       "        vertical-align: middle;\n",
       "    }\n",
       "\n",
       "    .dataframe tbody tr th {\n",
       "        vertical-align: top;\n",
       "    }\n",
       "\n",
       "    .dataframe thead th {\n",
       "        text-align: right;\n",
       "    }\n",
       "</style>\n",
       "<table border=\"1\" class=\"dataframe\">\n",
       "  <thead>\n",
       "    <tr style=\"text-align: right;\">\n",
       "      <th></th>\n",
       "      <th>drugs</th>\n",
       "      <th>orientation</th>\n",
       "      <th>sex</th>\n",
       "      <th>drinks</th>\n",
       "      <th>signsCleaned</th>\n",
       "    </tr>\n",
       "    <tr>\n",
       "      <th>status</th>\n",
       "      <th></th>\n",
       "      <th></th>\n",
       "      <th></th>\n",
       "      <th></th>\n",
       "      <th></th>\n",
       "    </tr>\n",
       "  </thead>\n",
       "  <tbody>\n",
       "    <tr>\n",
       "      <td>available</td>\n",
       "      <td>1140</td>\n",
       "      <td>1140</td>\n",
       "      <td>1140</td>\n",
       "      <td>1140</td>\n",
       "      <td>1140</td>\n",
       "    </tr>\n",
       "    <tr>\n",
       "      <td>married</td>\n",
       "      <td>212</td>\n",
       "      <td>212</td>\n",
       "      <td>212</td>\n",
       "      <td>212</td>\n",
       "      <td>212</td>\n",
       "    </tr>\n",
       "    <tr>\n",
       "      <td>seeing someone</td>\n",
       "      <td>1324</td>\n",
       "      <td>1324</td>\n",
       "      <td>1324</td>\n",
       "      <td>1324</td>\n",
       "      <td>1324</td>\n",
       "    </tr>\n",
       "    <tr>\n",
       "      <td>single</td>\n",
       "      <td>34194</td>\n",
       "      <td>34194</td>\n",
       "      <td>34194</td>\n",
       "      <td>34194</td>\n",
       "      <td>34194</td>\n",
       "    </tr>\n",
       "  </tbody>\n",
       "</table>\n",
       "</div>"
      ],
      "text/plain": [
       "                drugs  orientation    sex  drinks  signsCleaned\n",
       "status                                                         \n",
       "available        1140         1140   1140    1140          1140\n",
       "married           212          212    212     212           212\n",
       "seeing someone   1324         1324   1324    1324          1324\n",
       "single          34194        34194  34194   34194         34194"
      ]
     },
     "execution_count": 294,
     "metadata": {},
     "output_type": "execute_result"
    }
   ],
   "source": [
    "df_zodiacs = df_zodiacs.loc[df_zodiacs['status'] != 'unknown']\n",
    "df_zodiacs.groupby(df_zodiacs['status']).count()"
   ]
  },
  {
   "cell_type": "code",
   "execution_count": 295,
   "metadata": {},
   "outputs": [],
   "source": [
    "df_zodiacs['status'] = df_zodiacs['status'].apply(lambda row: 0 if row == 'single' \n",
    "                                                                        else (1 if row == 'available' \n",
    "                                                                        else (2 if row == 'seeing someone'\n",
    "                                                                        else 3)))"
   ]
  },
  {
   "cell_type": "code",
   "execution_count": 296,
   "metadata": {},
   "outputs": [
    {
     "data": {
      "text/html": [
       "<div>\n",
       "<style scoped>\n",
       "    .dataframe tbody tr th:only-of-type {\n",
       "        vertical-align: middle;\n",
       "    }\n",
       "\n",
       "    .dataframe tbody tr th {\n",
       "        vertical-align: top;\n",
       "    }\n",
       "\n",
       "    .dataframe thead th {\n",
       "        text-align: right;\n",
       "    }\n",
       "</style>\n",
       "<table border=\"1\" class=\"dataframe\">\n",
       "  <thead>\n",
       "    <tr style=\"text-align: right;\">\n",
       "      <th></th>\n",
       "      <th>drugs</th>\n",
       "      <th>orientation</th>\n",
       "      <th>status</th>\n",
       "      <th>sex</th>\n",
       "      <th>drinks</th>\n",
       "      <th>signsCleaned</th>\n",
       "    </tr>\n",
       "  </thead>\n",
       "  <tbody>\n",
       "    <tr>\n",
       "      <td>0</td>\n",
       "      <td>0</td>\n",
       "      <td>0</td>\n",
       "      <td>0</td>\n",
       "      <td>m</td>\n",
       "      <td>socially</td>\n",
       "      <td>gemini</td>\n",
       "    </tr>\n",
       "    <tr>\n",
       "      <td>1</td>\n",
       "      <td>1</td>\n",
       "      <td>0</td>\n",
       "      <td>0</td>\n",
       "      <td>m</td>\n",
       "      <td>often</td>\n",
       "      <td>cancer</td>\n",
       "    </tr>\n",
       "    <tr>\n",
       "      <td>4</td>\n",
       "      <td>0</td>\n",
       "      <td>0</td>\n",
       "      <td>0</td>\n",
       "      <td>m</td>\n",
       "      <td>socially</td>\n",
       "      <td>aquarius</td>\n",
       "    </tr>\n",
       "  </tbody>\n",
       "</table>\n",
       "</div>"
      ],
      "text/plain": [
       "   drugs  orientation  status sex    drinks signsCleaned\n",
       "0      0            0       0   m  socially       gemini\n",
       "1      1            0       0   m     often       cancer\n",
       "4      0            0       0   m  socially     aquarius"
      ]
     },
     "execution_count": 296,
     "metadata": {},
     "output_type": "execute_result"
    }
   ],
   "source": [
    "df_zodiacs.head(3)"
   ]
  },
  {
   "cell_type": "code",
   "execution_count": 297,
   "metadata": {},
   "outputs": [],
   "source": [
    "df_zodiacs['sex'] = df_zodiacs['sex'].apply(lambda row: 0 if row == 'm' else 1)\n",
    "\n"
   ]
  },
  {
   "cell_type": "code",
   "execution_count": 298,
   "metadata": {},
   "outputs": [
    {
     "data": {
      "text/html": [
       "<div>\n",
       "<style scoped>\n",
       "    .dataframe tbody tr th:only-of-type {\n",
       "        vertical-align: middle;\n",
       "    }\n",
       "\n",
       "    .dataframe tbody tr th {\n",
       "        vertical-align: top;\n",
       "    }\n",
       "\n",
       "    .dataframe thead th {\n",
       "        text-align: right;\n",
       "    }\n",
       "</style>\n",
       "<table border=\"1\" class=\"dataframe\">\n",
       "  <thead>\n",
       "    <tr style=\"text-align: right;\">\n",
       "      <th></th>\n",
       "      <th>drugs</th>\n",
       "      <th>orientation</th>\n",
       "      <th>status</th>\n",
       "      <th>sex</th>\n",
       "      <th>drinks</th>\n",
       "      <th>signsCleaned</th>\n",
       "    </tr>\n",
       "  </thead>\n",
       "  <tbody>\n",
       "    <tr>\n",
       "      <td>0</td>\n",
       "      <td>0</td>\n",
       "      <td>0</td>\n",
       "      <td>0</td>\n",
       "      <td>0</td>\n",
       "      <td>socially</td>\n",
       "      <td>gemini</td>\n",
       "    </tr>\n",
       "    <tr>\n",
       "      <td>1</td>\n",
       "      <td>1</td>\n",
       "      <td>0</td>\n",
       "      <td>0</td>\n",
       "      <td>0</td>\n",
       "      <td>often</td>\n",
       "      <td>cancer</td>\n",
       "    </tr>\n",
       "    <tr>\n",
       "      <td>4</td>\n",
       "      <td>0</td>\n",
       "      <td>0</td>\n",
       "      <td>0</td>\n",
       "      <td>0</td>\n",
       "      <td>socially</td>\n",
       "      <td>aquarius</td>\n",
       "    </tr>\n",
       "  </tbody>\n",
       "</table>\n",
       "</div>"
      ],
      "text/plain": [
       "   drugs  orientation  status  sex    drinks signsCleaned\n",
       "0      0            0       0    0  socially       gemini\n",
       "1      1            0       0    0     often       cancer\n",
       "4      0            0       0    0  socially     aquarius"
      ]
     },
     "execution_count": 298,
     "metadata": {},
     "output_type": "execute_result"
    }
   ],
   "source": [
    "df_zodiacs.head(3)"
   ]
  },
  {
   "cell_type": "code",
   "execution_count": 299,
   "metadata": {},
   "outputs": [],
   "source": [
    "df_zodiacs['drinks'] = df_zodiacs['drinks'].apply(lambda row: 0 if row == 'desperately'\n",
    "                                                            else (1 if row == 'very often'\n",
    "                                                            else (2 if row == 'often'\n",
    "                                                            else (3 if row == 'socially'\n",
    "                                                            else (4 if row == 'rarely'\n",
    "                                                            else 5)))))"
   ]
  },
  {
   "cell_type": "code",
   "execution_count": 300,
   "metadata": {},
   "outputs": [
    {
     "data": {
      "text/html": [
       "<div>\n",
       "<style scoped>\n",
       "    .dataframe tbody tr th:only-of-type {\n",
       "        vertical-align: middle;\n",
       "    }\n",
       "\n",
       "    .dataframe tbody tr th {\n",
       "        vertical-align: top;\n",
       "    }\n",
       "\n",
       "    .dataframe thead th {\n",
       "        text-align: right;\n",
       "    }\n",
       "</style>\n",
       "<table border=\"1\" class=\"dataframe\">\n",
       "  <thead>\n",
       "    <tr style=\"text-align: right;\">\n",
       "      <th></th>\n",
       "      <th>drugs</th>\n",
       "      <th>orientation</th>\n",
       "      <th>status</th>\n",
       "      <th>sex</th>\n",
       "      <th>drinks</th>\n",
       "      <th>signsCleaned</th>\n",
       "    </tr>\n",
       "  </thead>\n",
       "  <tbody>\n",
       "    <tr>\n",
       "      <td>0</td>\n",
       "      <td>0</td>\n",
       "      <td>0</td>\n",
       "      <td>0</td>\n",
       "      <td>0</td>\n",
       "      <td>3</td>\n",
       "      <td>gemini</td>\n",
       "    </tr>\n",
       "    <tr>\n",
       "      <td>1</td>\n",
       "      <td>1</td>\n",
       "      <td>0</td>\n",
       "      <td>0</td>\n",
       "      <td>0</td>\n",
       "      <td>2</td>\n",
       "      <td>cancer</td>\n",
       "    </tr>\n",
       "    <tr>\n",
       "      <td>4</td>\n",
       "      <td>0</td>\n",
       "      <td>0</td>\n",
       "      <td>0</td>\n",
       "      <td>0</td>\n",
       "      <td>3</td>\n",
       "      <td>aquarius</td>\n",
       "    </tr>\n",
       "  </tbody>\n",
       "</table>\n",
       "</div>"
      ],
      "text/plain": [
       "   drugs  orientation  status  sex  drinks signsCleaned\n",
       "0      0            0       0    0       3       gemini\n",
       "1      1            0       0    0       2       cancer\n",
       "4      0            0       0    0       3     aquarius"
      ]
     },
     "execution_count": 300,
     "metadata": {},
     "output_type": "execute_result"
    }
   ],
   "source": [
    "df_zodiacs.head(3)"
   ]
  },
  {
   "cell_type": "markdown",
   "metadata": {},
   "source": [
    "<b>2. Use ML Random Forest to forecast zodiac signs</b>\n",
    "Forth splitting of train and test data"
   ]
  },
  {
   "cell_type": "code",
   "execution_count": 301,
   "metadata": {},
   "outputs": [],
   "source": [
    "col_length = len(df_zodiacs.columns)\n",
    "\n",
    "#labels is the target column, data has the rest\n",
    "data = df_zodiacs.iloc[:, 0:col_length-1]\n",
    "labels = df_zodiacs.iloc[:, -1:]"
   ]
  },
  {
   "cell_type": "markdown",
   "metadata": {},
   "source": [
    "Fifth: Checking for label imbalance, if imbalance ML clasifier can not properly train since too few labels for training are available. In this example the labels are in balance"
   ]
  },
  {
   "cell_type": "code",
   "execution_count": 302,
   "metadata": {},
   "outputs": [
    {
     "data": {
      "text/plain": [
       "leo            3271\n",
       "gemini         3236\n",
       "cancer         3181\n",
       "virgo          3181\n",
       "libra          3166\n",
       "taurus         3136\n",
       "scorpio        3093\n",
       "aries          3030\n",
       "aquarius       2955\n",
       "sagittarius    2954\n",
       "pisces         2936\n",
       "capricorn      2731\n",
       "Name: signsCleaned, dtype: int64"
      ]
     },
     "execution_count": 302,
     "metadata": {},
     "output_type": "execute_result"
    }
   ],
   "source": [
    "df_zodiacs['signsCleaned'].value_counts()"
   ]
  },
  {
   "cell_type": "code",
   "execution_count": 303,
   "metadata": {},
   "outputs": [],
   "source": [
    "#Validation chunk size\n",
    "val_size = 0.25\n",
    "\n",
    "#Split the data into chunks\n",
    "from sklearn.model_selection import train_test_split \n",
    "train_data, test_data, train_labels, test_labels = train_test_split(data, labels, test_size=val_size, random_state = 0)\n",
    "\n",
    "#turn in to 1d arrays\n",
    "train_labels = train_labels.to_numpy().ravel()\n",
    "test_labels = test_labels.to_numpy().ravel()"
   ]
  },
  {
   "cell_type": "markdown",
   "metadata": {},
   "source": [
    "<b>2. Use ML Random Forest to forecast zodiac signs</b>\n",
    "Sixth prediction"
   ]
  },
  {
   "cell_type": "code",
   "execution_count": 304,
   "metadata": {},
   "outputs": [],
   "source": [
    "forest = RandomForestClassifier(random_state = 1)"
   ]
  },
  {
   "cell_type": "code",
   "execution_count": 305,
   "metadata": {},
   "outputs": [
    {
     "data": {
      "text/plain": [
       "RandomForestClassifier(random_state=1)"
      ]
     },
     "execution_count": 305,
     "metadata": {},
     "output_type": "execute_result"
    }
   ],
   "source": [
    "forest.fit(train_data, train_labels)"
   ]
  },
  {
   "cell_type": "code",
   "execution_count": 306,
   "metadata": {},
   "outputs": [],
   "source": [
    "forest_predictions_train = forest.predict(train_data)"
   ]
  },
  {
   "cell_type": "code",
   "execution_count": 307,
   "metadata": {},
   "outputs": [
    {
     "name": "stdout",
     "output_type": "stream",
     "text": [
      "              precision    recall  f1-score   support\n",
      "\n",
      "    aquarius       0.23      0.02      0.03      2184\n",
      "       aries       0.11      0.11      0.11      2293\n",
      "      cancer       0.12      0.07      0.09      2398\n",
      "   capricorn       0.32      0.01      0.01      2027\n",
      "      gemini       0.17      0.03      0.06      2408\n",
      "         leo       0.10      0.33      0.15      2440\n",
      "       libra       0.10      0.41      0.16      2396\n",
      "      pisces       0.12      0.04      0.06      2259\n",
      " sagittarius       0.14      0.03      0.05      2201\n",
      "     scorpio       0.12      0.09      0.10      2337\n",
      "      taurus       0.16      0.06      0.09      2341\n",
      "       virgo       0.13      0.09      0.11      2368\n",
      "\n",
      "    accuracy                           0.11     27652\n",
      "   macro avg       0.15      0.11      0.08     27652\n",
      "weighted avg       0.15      0.11      0.09     27652\n",
      "\n"
     ]
    }
   ],
   "source": [
    "print(classification_report(train_labels, forest_predictions_train))"
   ]
  },
  {
   "cell_type": "markdown",
   "metadata": {},
   "source": [
    "The final accuracy of the random forest model on training data is 11% which is poor compareed to random guessing (~8%) of the time (1/12)."
   ]
  },
  {
   "cell_type": "code",
   "execution_count": 308,
   "metadata": {},
   "outputs": [
    {
     "name": "stdout",
     "output_type": "stream",
     "text": [
      "0.08396615317856368\n"
     ]
    }
   ],
   "source": [
    "print(forest.score(test_data, test_labels))"
   ]
  },
  {
   "cell_type": "markdown",
   "metadata": {},
   "source": [
    "As assumed, on test data this accuracy gets even lower to only 8%!"
   ]
  },
  {
   "cell_type": "code",
   "execution_count": 309,
   "metadata": {},
   "outputs": [
    {
     "data": {
      "text/plain": [
       "array(['leo', 'scorpio', 'libra', ..., 'leo', 'libra', 'aries'],\n",
       "      dtype=object)"
      ]
     },
     "execution_count": 309,
     "metadata": {},
     "output_type": "execute_result"
    }
   ],
   "source": [
    "forest_prediction_test = forest.predict(test_data)\n",
    "forest_prediction_test\n"
   ]
  },
  {
   "cell_type": "code",
   "execution_count": 310,
   "metadata": {},
   "outputs": [
    {
     "data": {
      "text/plain": [
       "array([[  6,  52,  45,   2,  15, 237, 274,  19,  21,  43,  17,  40],\n",
       "       [  3,  67,  35,   0,  10, 240, 240,  17,  12,  45,  27,  41],\n",
       "       [  7,  84,  37,   3,  16, 223, 260,  24,  14,  36,  23,  56],\n",
       "       [  5,  61,  40,   1,  12, 209, 255,  14,  14,  34,  26,  33],\n",
       "       [  4,  88,  49,   2,   9, 225, 286,  19,  14,  62,  29,  41],\n",
       "       [  5,  68,  49,   1,  10, 249, 285,  20,  17,  50,  23,  54],\n",
       "       [  2,  49,  43,   1,   8, 242, 273,  24,  18,  36,  30,  44],\n",
       "       [  2,  47,  33,   1,  10, 205, 251,  18,  18,  45,  11,  36],\n",
       "       [  8,  62,  47,   0,  11, 241, 229,  17,  11,  62,  18,  47],\n",
       "       [  5,  63,  46,   2,   3, 238, 255,  20,  19,  39,  20,  46],\n",
       "       [  5,  70,  45,   1,  13, 235, 296,  16,  12,  44,  22,  36],\n",
       "       [  1,  67,  35,   1,  15, 245, 286,  27,  15,  61,  18,  42]],\n",
       "      dtype=int64)"
      ]
     },
     "execution_count": 310,
     "metadata": {},
     "output_type": "execute_result"
    }
   ],
   "source": [
    "confusion_matrix(test_labels, forest_prediction_test)"
   ]
  },
  {
   "cell_type": "code",
   "execution_count": 311,
   "metadata": {},
   "outputs": [
    {
     "data": {
      "image/png": "[encoded data removed]",
      "text/plain": [
       "<Figure size 1152x504 with 2 Axes>"
      ]
     },
     "metadata": {
      "needs_background": "light"
     },
     "output_type": "display_data"
    }
   ],
   "source": [
    "# Get and reshape confusion matrix data\n",
    "matrix = confusion_matrix(test_labels, forest_prediction_test)\n",
    "matrix = matrix.astype('float') / matrix.sum(axis=1)[:, np.newaxis]\n",
    "\n",
    "# Build the plot\n",
    "plt.figure(figsize=(16,7))\n",
    "sns.set(font_scale=1.4)\n",
    "sns.heatmap(matrix, annot=True, annot_kws={'size':10},\n",
    "            cmap=plt.cm.Greens, linewidths=0.2)\n",
    "\n",
    "# Add labels to the plot\n",
    "class_names = ['aquarius', 'aries', 'cancer', 'capricorn', 'gemini', 'leo', 'libra', 'pisces',\n",
    "               'sagittarius','scorpio', 'taurus','virgo']\n",
    "tick_marks = np.arange(len(class_names))\n",
    "tick_marks2 = tick_marks + 0.5\n",
    "plt.xticks(tick_marks, class_names, rotation=25)\n",
    "plt.yticks(tick_marks2, class_names, rotation=0)\n",
    "#plt.xlim(-0.5, len(np.unique(y))-0.5)\n",
    "plt.ylim(-0.0,11 +1.0)\n",
    "plt.xlabel('Predicted label')\n",
    "plt.ylabel('True label')\n",
    "plt.title('Confusion Matrix for Random Forest Model')\n",
    "plt.show()"
   ]
  },
  {
   "cell_type": "markdown",
   "metadata": {},
   "source": [
    "The highest corrrelation on test is acheved for the leo and libra zodiacs"
   ]
  },
  {
   "cell_type": "markdown",
   "metadata": {},
   "source": [
    "<b>3. Use ML K-Nearest Neighbor to forecast zodiac signs</b>"
   ]
  },
  {
   "cell_type": "code",
   "execution_count": 312,
   "metadata": {},
   "outputs": [],
   "source": [
    "knn_model = KNeighborsClassifier(n_neighbors = 5).fit(train_data, train_labels)\n",
    "knn_prediction_train = knn_model.predict(train_data)"
   ]
  },
  {
   "cell_type": "code",
   "execution_count": 313,
   "metadata": {},
   "outputs": [
    {
     "name": "stdout",
     "output_type": "stream",
     "text": [
      "              precision    recall  f1-score   support\n",
      "\n",
      "    aquarius       0.09      0.15      0.11      2184\n",
      "       aries       0.09      0.09      0.09      2293\n",
      "      cancer       0.11      0.05      0.07      2398\n",
      "   capricorn       0.07      0.36      0.12      2027\n",
      "      gemini       0.11      0.04      0.06      2408\n",
      "         leo       0.17      0.01      0.03      2440\n",
      "       libra       0.10      0.05      0.06      2396\n",
      "      pisces       0.09      0.04      0.06      2259\n",
      " sagittarius       0.11      0.02      0.03      2201\n",
      "     scorpio       0.15      0.02      0.03      2337\n",
      "      taurus       0.14      0.01      0.02      2341\n",
      "       virgo       0.09      0.24      0.13      2368\n",
      "\n",
      "    accuracy                           0.09     27652\n",
      "   macro avg       0.11      0.09      0.07     27652\n",
      "weighted avg       0.11      0.09      0.07     27652\n",
      "\n"
     ]
    }
   ],
   "source": [
    "print(classification_report(train_labels, knn_prediction_train))"
   ]
  },
  {
   "cell_type": "markdown",
   "metadata": {},
   "source": [
    "The final accuracy of the knn nearest Neighbor model on training data is 8% which is poor compareed to random guessing (~8%) of the time (1/12)."
   ]
  },
  {
   "cell_type": "code",
   "execution_count": 314,
   "metadata": {},
   "outputs": [
    {
     "name": "stdout",
     "output_type": "stream",
     "text": [
      "0.08396615317856368\n"
     ]
    }
   ],
   "source": [
    "knn_prediction_test = knn_model.predict(test_data)\n",
    "print(knn_model.score(test_data, test_labels))"
   ]
  },
  {
   "cell_type": "markdown",
   "metadata": {},
   "source": [
    "The score on the test data is equaly poor for the knn classification model"
   ]
  },
  {
   "cell_type": "markdown",
   "metadata": {},
   "source": [
    "<b>4. Use ML Decision Trees to forecast zodiac signs</b>"
   ]
  },
  {
   "cell_type": "code",
   "execution_count": 315,
   "metadata": {},
   "outputs": [],
   "source": [
    "tree = DecisionTreeClassifier().fit(train_data, train_labels) \n",
    "tree_predictions_train = tree.predict(train_data) "
   ]
  },
  {
   "cell_type": "code",
   "execution_count": 316,
   "metadata": {},
   "outputs": [
    {
     "name": "stdout",
     "output_type": "stream",
     "text": [
      "              precision    recall  f1-score   support\n",
      "\n",
      "    aquarius       0.23      0.02      0.04      2184\n",
      "       aries       0.12      0.12      0.12      2293\n",
      "      cancer       0.12      0.08      0.10      2398\n",
      "   capricorn       0.26      0.01      0.02      2027\n",
      "      gemini       0.15      0.05      0.07      2408\n",
      "         leo       0.10      0.37      0.16      2440\n",
      "       libra       0.10      0.41      0.16      2396\n",
      "      pisces       0.12      0.04      0.06      2259\n",
      " sagittarius       0.14      0.03      0.05      2201\n",
      "     scorpio       0.20      0.03      0.05      2337\n",
      "      taurus       0.16      0.05      0.07      2341\n",
      "       virgo       0.12      0.08      0.10      2368\n",
      "\n",
      "    accuracy                           0.11     27652\n",
      "   macro avg       0.15      0.11      0.08     27652\n",
      "weighted avg       0.15      0.11      0.08     27652\n",
      "\n"
     ]
    }
   ],
   "source": [
    "print(classification_report(train_labels, tree_predictions_train))"
   ]
  },
  {
   "cell_type": "markdown",
   "metadata": {},
   "source": [
    "The accurcy for the decision tree classfier to forecast zodiac signs is with 11% equally to the random forest calssifier tested above!"
   ]
  },
  {
   "cell_type": "code",
   "execution_count": 317,
   "metadata": {},
   "outputs": [
    {
     "data": {
      "text/plain": [
       "12"
      ]
     },
     "execution_count": 317,
     "metadata": {},
     "output_type": "execute_result"
    }
   ],
   "source": [
    "tree.get_depth()"
   ]
  },
  {
   "cell_type": "code",
   "execution_count": 318,
   "metadata": {},
   "outputs": [
    {
     "name": "stdout",
     "output_type": "stream",
     "text": [
      "0.08591885441527446\n"
     ]
    }
   ],
   "source": [
    "tree_prediction_test = tree.predict(test_data)\n",
    "print(tree.score(test_data, test_labels))"
   ]
  },
  {
   "cell_type": "markdown",
   "metadata": {},
   "source": [
    "The accurcy for the decision tree classfier on test data is with 8% equally to guessing."
   ]
  },
  {
   "cell_type": "code",
   "execution_count": 319,
   "metadata": {},
   "outputs": [
    {
     "name": "stdout",
     "output_type": "stream",
     "text": [
      "[0.08913397 0.09094196 0.08444846 0.08499096 0.08300181]\n",
      "Baseline: 8.65% (0.30%)\n"
     ]
    }
   ],
   "source": [
    "from sklearn.model_selection import KFold\n",
    "from sklearn.model_selection import cross_val_score\n",
    "\n",
    "kfold = KFold(n_splits=5, shuffle=True, random_state=0)\n",
    "results = cross_val_score(tree, train_data, train_labels, cv=kfold, scoring='accuracy')\n",
    "\n",
    "print(results)\n",
    "print(\"Baseline: %.2f%% (%.2f%%)\" % (results.mean()*100, results.std()*100))"
   ]
  },
  {
   "cell_type": "markdown",
   "metadata": {},
   "source": [
    "Increasing the depth from 12 to 500 (risk of overfitting, this is just for illustration purpose)"
   ]
  },
  {
   "cell_type": "code",
   "execution_count": 320,
   "metadata": {},
   "outputs": [],
   "source": [
    "tree20 = DecisionTreeClassifier(max_depth = 500).fit(train_data, train_labels) \n",
    "tree20_predict = tree20.predict(train_data) "
   ]
  },
  {
   "cell_type": "code",
   "execution_count": 321,
   "metadata": {},
   "outputs": [
    {
     "name": "stdout",
     "output_type": "stream",
     "text": [
      "              precision    recall  f1-score   support\n",
      "\n",
      "    aquarius       0.23      0.02      0.04      2184\n",
      "       aries       0.12      0.12      0.12      2293\n",
      "      cancer       0.12      0.08      0.10      2398\n",
      "   capricorn       0.26      0.01      0.02      2027\n",
      "      gemini       0.15      0.05      0.07      2408\n",
      "         leo       0.10      0.37      0.16      2440\n",
      "       libra       0.10      0.41      0.16      2396\n",
      "      pisces       0.12      0.04      0.06      2259\n",
      " sagittarius       0.14      0.03      0.05      2201\n",
      "     scorpio       0.20      0.03      0.05      2337\n",
      "      taurus       0.16      0.05      0.07      2341\n",
      "       virgo       0.12      0.08      0.10      2368\n",
      "\n",
      "    accuracy                           0.11     27652\n",
      "   macro avg       0.15      0.11      0.08     27652\n",
      "weighted avg       0.15      0.11      0.08     27652\n",
      "\n"
     ]
    }
   ],
   "source": [
    "print(classification_report(train_labels, tree20_predict))"
   ]
  },
  {
   "cell_type": "markdown",
   "metadata": {},
   "source": [
    "Even though the depth was set very high, the impact on accuracy has not improved"
   ]
  },
  {
   "cell_type": "markdown",
   "metadata": {},
   "source": [
    "<b>5. Use ML Logistic regression to forecast zodiac signs</b>"
   ]
  },
  {
   "cell_type": "code",
   "execution_count": 322,
   "metadata": {},
   "outputs": [],
   "source": [
    "logistic_regression = LogisticRegression(multi_class=\"multinomial\").fit(train_data, train_labels)\n",
    "logistic_regression_predictions = logistic_regression.predict(train_data)"
   ]
  },
  {
   "cell_type": "code",
   "execution_count": 323,
   "metadata": {},
   "outputs": [],
   "source": [
    "import warnings\n",
    "warnings.filterwarnings('ignore')"
   ]
  },
  {
   "cell_type": "code",
   "execution_count": 324,
   "metadata": {},
   "outputs": [
    {
     "name": "stdout",
     "output_type": "stream",
     "text": [
      "              precision    recall  f1-score   support\n",
      "\n",
      "    aquarius       0.00      0.00      0.00      2184\n",
      "       aries       0.00      0.00      0.00      2293\n",
      "      cancer       0.14      0.00      0.00      2398\n",
      "   capricorn       0.00      0.00      0.00      2027\n",
      "      gemini       0.10      0.10      0.10      2408\n",
      "         leo       0.09      0.35      0.14      2440\n",
      "       libra       0.10      0.42      0.15      2396\n",
      "      pisces       0.00      0.00      0.00      2259\n",
      " sagittarius       0.00      0.00      0.00      2201\n",
      "     scorpio       0.09      0.10      0.10      2337\n",
      "      taurus       0.11      0.02      0.04      2341\n",
      "       virgo       0.10      0.10      0.10      2368\n",
      "\n",
      "    accuracy                           0.09     27652\n",
      "   macro avg       0.06      0.09      0.05     27652\n",
      "weighted avg       0.06      0.09      0.06     27652\n",
      "\n"
     ]
    }
   ],
   "source": [
    "print(classification_report(train_labels, logistic_regression_predictions))"
   ]
  },
  {
   "cell_type": "markdown",
   "metadata": {},
   "source": [
    "The accuracy on the logistic regression training data for zodiac sign prediction is with 9% also poor"
   ]
  },
  {
   "cell_type": "markdown",
   "metadata": {},
   "source": [
    "<b>Conclusion:</b> The k-Nearest Neighbor and the Random Forest Classifier obtained the highest precision scores, especially for the zodiacs leo and libra. Overall precision was however poor and just a little better than random guessing. In the next step, the incorporation of further features could be employed to further improve the accuracy of the models."
   ]
  },
  {
   "cell_type": "markdown",
   "metadata": {},
   "source": [
    "<b>6.Use Unsupervised learning KMeans for clustering</b> "
   ]
  },
  {
   "cell_type": "code",
   "execution_count": 325,
   "metadata": {},
   "outputs": [],
   "source": [
    "kmeans_classifier = KMeans(n_clusters = 12, random_state=1)"
   ]
  },
  {
   "cell_type": "code",
   "execution_count": 326,
   "metadata": {},
   "outputs": [
    {
     "data": {
      "text/plain": [
       "KMeans(n_clusters=12, random_state=1)"
      ]
     },
     "execution_count": 326,
     "metadata": {},
     "output_type": "execute_result"
    }
   ],
   "source": [
    "kmeans_classifier.fit(data)"
   ]
  },
  {
   "cell_type": "code",
   "execution_count": 327,
   "metadata": {},
   "outputs": [
    {
     "name": "stdout",
     "output_type": "stream",
     "text": [
      "[[ 1.34665508e-02  7.21112076e-02  4.12684622e-02  1.00000000e+00\n",
      "   4.38010426e+00]\n",
      " [ 1.02418074e-14  1.09727985e-02  2.05624712e-02 -4.99600361e-16\n",
      "   2.91931766e+00]\n",
      " [ 2.01014125e-01  2.00000000e+00  2.86128214e-02  2.36508511e-01\n",
      "   2.86562840e+00]\n",
      " [ 9.71445147e-15  3.36358783e-02  8.54244527e-03  1.00000000e+00\n",
      "   2.93721303e+00]\n",
      " [ 9.58604376e-01  1.35422827e-01  7.68775872e-02  3.62507392e-01\n",
      "   1.61502070e+00]\n",
      " [ 3.59019264e-01  1.43082312e+00  1.84588441e+00  6.84763573e-01\n",
      "   3.21366025e+00]\n",
      " [ 2.77939747e-01  4.85908649e-03  2.15451895e+00  4.22740525e-01\n",
      "   3.03498542e+00]\n",
      " [ 6.32440476e-02  3.42261905e-02  9.22619048e-02  1.38777878e-15\n",
      "   5.00000000e+00]\n",
      " [ 9.87983979e-02  2.00000000e+00  4.80640854e-02  2.96395194e-01\n",
      "   4.42990654e+00]\n",
      " [ 1.03950532e+00  4.94675369e-02  7.38577808e-02 -2.83106871e-15\n",
      "   3.10443147e+00]\n",
      " [-5.27355937e-16  2.65339967e-02  2.92979547e-02  1.60982339e-15\n",
      "   4.00000000e+00]\n",
      " [ 1.03014066e+00  2.53181514e-01  7.90354990e-02  1.00000000e+00\n",
      "   3.09310114e+00]]\n"
     ]
    }
   ],
   "source": [
    "print(kmeans_classifier.cluster_centers_)"
   ]
  },
  {
   "cell_type": "markdown",
   "metadata": {},
   "source": [
    "Using Adjusted Rand Index to veryfy accuracy of clustering"
   ]
  },
  {
   "cell_type": "code",
   "execution_count": 328,
   "metadata": {},
   "outputs": [],
   "source": [
    "from sklearn.metrics.cluster import adjusted_rand_score"
   ]
  },
  {
   "cell_type": "code",
   "execution_count": 329,
   "metadata": {},
   "outputs": [],
   "source": [
    "kmean_label_predict = kmeans_classifier.predict(data)"
   ]
  },
  {
   "cell_type": "code",
   "execution_count": 330,
   "metadata": {},
   "outputs": [
    {
     "name": "stdout",
     "output_type": "stream",
     "text": [
      "[1 4 1 ... 4 7 9]\n"
     ]
    }
   ],
   "source": [
    "print(kmean_label_predict)"
   ]
  },
  {
   "cell_type": "code",
   "execution_count": 333,
   "metadata": {},
   "outputs": [],
   "source": [
    "true_labels = []\n",
    "\n",
    "for x in df_zodiacs['signsCleaned']:\n",
    "    if x == 'leo':\n",
    "        true_labels.append(0)\n",
    "    elif x == 'gemini':\n",
    "        true_labels.append(1)\n",
    "    elif x == 'cancer':\n",
    "        true_labels.append(2)\n",
    "    elif x == 'virgo':\n",
    "        true_labels.append(3)\n",
    "    elif x == 'libra':\n",
    "        true_labels.append(4)\n",
    "    elif x == 'taurus':\n",
    "        true_labels.append(5)\n",
    "    elif x == 'scorpio':\n",
    "        true_labels.append(6)\n",
    "    elif x == 'aries':\n",
    "        true_labels.append(7)\n",
    "    elif x == 'aquarius':\n",
    "        true_labels.append(8)\n",
    "    elif x == 'sagittarius':\n",
    "        true_labels.append(9)\n",
    "    elif x == 'pisces':\n",
    "        true_labels.append(10)\n",
    "    else:\n",
    "        true_labels.append(11)"
   ]
  },
  {
   "cell_type": "code",
   "execution_count": 332,
   "metadata": {},
   "outputs": [
    {
     "data": {
      "text/plain": [
       "4.704281231801968e-05"
      ]
     },
     "execution_count": 332,
     "metadata": {},
     "output_type": "execute_result"
    }
   ],
   "source": [
    "adjusted_rand_score(true_labels, kmean_label_predict)"
   ]
  },
  {
   "cell_type": "markdown",
   "metadata": {},
   "source": [
    "Conclusion: The predicted labelling of the kmeans classifier is very low (not negative though). The model would need other features or another unsupervised learning classifier would have to be tested"
   ]
  },
  {
   "cell_type": "code",
   "execution_count": null,
   "metadata": {},
   "outputs": [],
   "source": []
  }
 ],
 "metadata": {
  "kernelspec": {
   "display_name": "Python 3",
   "language": "python",
   "name": "python3"
  },
  "language_info": {
   "codemirror_mode": {
    "name": "ipython",
    "version": 3
   },
   "file_extension": ".py",
   "mimetype": "text/x-python",
   "name": "python",
   "nbconvert_exporter": "python",
   "pygments_lexer": "ipython3",
   "version": "3.7.3"
  }
 },
 "nbformat": 4,
 "nbformat_minor": 4
}
